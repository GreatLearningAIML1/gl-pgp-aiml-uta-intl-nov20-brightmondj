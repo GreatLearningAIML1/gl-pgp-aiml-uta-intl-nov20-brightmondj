{
 "cells": [
  {
   "cell_type": "markdown",
   "metadata": {
    "id": "455s9GPUXbTx"
   },
   "source": [
    "**Background and Context:**\n",
    "\n",
    "Twitter posses 330 million monthly active users, which allows businesses to reach a broad population and connect with customers without intermediaries. On the other side, there’s so much information that it’s difficult for brands to quickly detect negative social mentions that could harm their business.\n",
    "\n",
    "That's why sentiment analysis/classification, which involves monitoring emotions in conversations on social media platforms, has become a key strategy in social media marketing.\n",
    "\n",
    "\n",
    "Listening to how customers feel about the product/services on Twitter allows companies to understand their audience, keep on top of what’s being said about their brand, and their competitors, and discover new trends in the industry."
   ]
  },
  {
   "cell_type": "markdown",
   "metadata": {
    "id": "HulyVUMQX33L"
   },
   "source": [
    "**Data Description:**\n",
    "\n",
    "A sentiment analysis job about the problems of each major U.S. airline. Twitter data was scraped from February of 2015 and contributors were asked to first classify positive, negative, and neutral tweets, followed by categorizing negative reasons (such as \"late flight\" or \"rude service\")."
   ]
  },
  {
   "cell_type": "markdown",
   "metadata": {
    "id": "hQ9lsYz4YAWv"
   },
   "source": [
    "**Objective:**\n",
    "\n",
    "To implement the techniques learned as a part of the course.\n",
    "\n",
    "* Basic understanding of text pre-processing.\n",
    "* What to do after text pre-processing\n",
    "* Bag of words\n",
    "* Tf-idf\n",
    "* Build the classification model.\n",
    "* Evaluate the Model"
   ]
  },
  {
   "cell_type": "code",
   "execution_count": 1,
   "metadata": {
    "colab": {
     "base_uri": "https://localhost:8080/"
    },
    "id": "ZtNcS3S1UVUh",
    "outputId": "79c732f7-0d07-4f4d-9646-aa34fa577e08"
   },
   "outputs": [
    {
     "name": "stderr",
     "output_type": "stream",
     "text": [
      "/usr/local/lib/python3.7/dist-packages/ipykernel_launcher.py:10: FutureWarning: Passing a negative integer is deprecated in version 1.0 and will not be supported in future version. Instead, use None to not limit the column width.\n",
      "  # Remove the CWD from sys.path while we load stuff.\n"
     ]
    },
    {
     "name": "stdout",
     "output_type": "stream",
     "text": [
      "Collecting emoji\n",
      "\u001b[?25l  Downloading https://files.pythonhosted.org/packages/24/fa/b3368f41b95a286f8d300e323449ab4e86b85334c2e0b477e94422b8ed0f/emoji-1.2.0-py3-none-any.whl (131kB)\n",
      "\r",
      "\u001b[K     |██▌                             | 10kB 16.2MB/s eta 0:00:01\r",
      "\u001b[K     |█████                           | 20kB 20.3MB/s eta 0:00:01\r",
      "\u001b[K     |███████▌                        | 30kB 15.5MB/s eta 0:00:01\r",
      "\u001b[K     |██████████                      | 40kB 13.9MB/s eta 0:00:01\r",
      "\u001b[K     |████████████▌                   | 51kB 7.8MB/s eta 0:00:01\r",
      "\u001b[K     |███████████████                 | 61kB 7.4MB/s eta 0:00:01\r",
      "\u001b[K     |█████████████████▌              | 71kB 8.3MB/s eta 0:00:01\r",
      "\u001b[K     |████████████████████            | 81kB 8.6MB/s eta 0:00:01\r",
      "\u001b[K     |██████████████████████▌         | 92kB 8.9MB/s eta 0:00:01\r",
      "\u001b[K     |█████████████████████████       | 102kB 7.3MB/s eta 0:00:01\r",
      "\u001b[K     |███████████████████████████▌    | 112kB 7.3MB/s eta 0:00:01\r",
      "\u001b[K     |██████████████████████████████  | 122kB 7.3MB/s eta 0:00:01\r",
      "\u001b[K     |████████████████████████████████| 133kB 7.3MB/s \n",
      "\u001b[?25hInstalling collected packages: emoji\n",
      "Successfully installed emoji-1.2.0\n",
      "[nltk_data] Downloading package stopwords to /root/nltk_data...\n",
      "[nltk_data]   Unzipping corpora/stopwords.zip.\n"
     ]
    },
    {
     "name": "stderr",
     "output_type": "stream",
     "text": [
      "/usr/local/lib/python3.7/dist-packages/sklearn/externals/joblib/__init__.py:15: FutureWarning: sklearn.externals.joblib is deprecated in 0.21 and will be removed in 0.23. Please import this functionality directly from joblib, which can be installed with: pip install joblib. If this warning is raised when loading pickled models, you may need to re-serialize those models with scikit-learn 0.21+.\n",
      "  warnings.warn(msg, category=FutureWarning)\n"
     ]
    }
   ],
   "source": [
    "import matplotlib.pyplot as plt\n",
    "import seaborn as sns\n",
    "sns.set(style=\"darkgrid\")\n",
    "sns.set(font_scale=1.3)\n",
    "from bs4 import BeautifulSoup\n",
    "from nltk.corpus import stopwords\n",
    "import numpy as np\n",
    "import matplotlib.pyplot as plt\n",
    "import pandas as pd\n",
    "pd.set_option('display.max_colwidth', -1)\n",
    "import re\n",
    "import string\n",
    "import os\n",
    "!pip install emoji\n",
    "import emoji\n",
    "from pprint import pprint\n",
    "from time import time\n",
    "import collections\n",
    "import nltk\n",
    "nltk.download('stopwords')\n",
    "from nltk.corpus import stopwords\n",
    "from nltk.stem import PorterStemmer\n",
    "from nltk.tokenize import word_tokenize\n",
    "import gensim\n",
    "from sklearn.base import BaseEstimator, TransformerMixin\n",
    "from sklearn.feature_extraction.text import CountVectorizer\n",
    "from sklearn.feature_extraction.text import TfidfVectorizer\n",
    "from sklearn.model_selection import GridSearchCV\n",
    "from sklearn.model_selection import train_test_split\n",
    "from sklearn.pipeline import Pipeline, FeatureUnion\n",
    "from sklearn.metrics import classification_report\n",
    "\n",
    "from sklearn.naive_bayes import MultinomialNB\n",
    "from sklearn.linear_model import LogisticRegression\n",
    "from sklearn.externals import joblib"
   ]
  },
  {
   "cell_type": "code",
   "execution_count": 2,
   "metadata": {
    "colab": {
     "base_uri": "https://localhost:8080/",
     "height": 73,
     "resources": {
      "http://localhost:8080/nbextensions/google.colab/files.js": {
       "data": "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",
       "headers": [
        [
         "content-type",
         "application/javascript"
        ]
       ],
       "ok": true,
       "status": 200,
       "status_text": ""
      }
     }
    },
    "id": "Qy3QUE_2ZPQE",
    "outputId": "7d51326f-0965-409c-a074-b2587a784ba1"
   },
   "outputs": [
    {
     "data": {
      "text/html": [
       "\n",
       "     <input type=\"file\" id=\"files-cd431316-a0d2-4b14-84ab-c9468c27f746\" name=\"files[]\" multiple disabled\n",
       "        style=\"border:none\" />\n",
       "     <output id=\"result-cd431316-a0d2-4b14-84ab-c9468c27f746\">\n",
       "      Upload widget is only available when the cell has been executed in the\n",
       "      current browser session. Please rerun this cell to enable.\n",
       "      </output>\n",
       "      <script src=\"/nbextensions/google.colab/files.js\"></script> "
      ],
      "text/plain": [
       "<IPython.core.display.HTML object>"
      ]
     },
     "metadata": {
      "tags": []
     },
     "output_type": "display_data"
    },
    {
     "name": "stdout",
     "output_type": "stream",
     "text": [
      "Saving Tweets.csv to Tweets.csv\n"
     ]
    }
   ],
   "source": [
    "from google.colab import files\n",
    "upload = files.upload()"
   ]
  },
  {
   "cell_type": "code",
   "execution_count": 3,
   "metadata": {
    "colab": {
     "base_uri": "https://localhost:8080/",
     "height": 355
    },
    "id": "8xWJ-QgjaIop",
    "outputId": "24631b1d-701b-4b19-be52-a336d8e01c41"
   },
   "outputs": [
    {
     "data": {
      "text/html": [
       "<div>\n",
       "<style scoped>\n",
       "    .dataframe tbody tr th:only-of-type {\n",
       "        vertical-align: middle;\n",
       "    }\n",
       "\n",
       "    .dataframe tbody tr th {\n",
       "        vertical-align: top;\n",
       "    }\n",
       "\n",
       "    .dataframe thead th {\n",
       "        text-align: right;\n",
       "    }\n",
       "</style>\n",
       "<table border=\"1\" class=\"dataframe\">\n",
       "  <thead>\n",
       "    <tr style=\"text-align: right;\">\n",
       "      <th></th>\n",
       "      <th>text</th>\n",
       "      <th>airline_sentiment</th>\n",
       "    </tr>\n",
       "  </thead>\n",
       "  <tbody>\n",
       "    <tr>\n",
       "      <th>0</th>\n",
       "      <td>@SouthwestAir can you make a premium wifi that I can pay $30 for that is decent? #slow-fi</td>\n",
       "      <td>negative</td>\n",
       "    </tr>\n",
       "    <tr>\n",
       "      <th>1</th>\n",
       "      <td>@USAirways thanks! Made it safely! http://t.co/KCqeBEej7S</td>\n",
       "      <td>positive</td>\n",
       "    </tr>\n",
       "    <tr>\n",
       "      <th>2</th>\n",
       "      <td>@AmericanAir now down to only one agent helping a stagnant line of almost 100 customers. Super.</td>\n",
       "      <td>negative</td>\n",
       "    </tr>\n",
       "    <tr>\n",
       "      <th>3</th>\n",
       "      <td>@SouthwestAir Just sent DM with confirmation number and passenger name on SWA 3104 MCO-&amp;gt;CMH</td>\n",
       "      <td>neutral</td>\n",
       "    </tr>\n",
       "    <tr>\n",
       "      <th>4</th>\n",
       "      <td>@AmericanAir that's unacceptable. They should allow me to wait on hold, or take my number and call me themselves.</td>\n",
       "      <td>negative</td>\n",
       "    </tr>\n",
       "    <tr>\n",
       "      <th>5</th>\n",
       "      <td>@united v upset with your disability  \"services\". When I told one of your employees I was carrying medical equipment she was very rude.</td>\n",
       "      <td>negative</td>\n",
       "    </tr>\n",
       "    <tr>\n",
       "      <th>6</th>\n",
       "      <td>@USAirways on the phone over an hour waiting for customer service  got wrong fight information cost us 6 hours from trip. Frustrating!!!</td>\n",
       "      <td>negative</td>\n",
       "    </tr>\n",
       "    <tr>\n",
       "      <th>7</th>\n",
       "      <td>@AmericanAir any ways to get through the 50 minute wait to book a flight?</td>\n",
       "      <td>negative</td>\n",
       "    </tr>\n",
       "    <tr>\n",
       "      <th>8</th>\n",
       "      <td>@united holy high speed internet batman!  Speeds at United Club at IAD are insanely fast!  Thanks</td>\n",
       "      <td>positive</td>\n",
       "    </tr>\n",
       "    <tr>\n",
       "      <th>9</th>\n",
       "      <td>@united lots of reports of system failures delaying flights over the last week. Currently sitting on the tarmac at OGG for over an hour.</td>\n",
       "      <td>negative</td>\n",
       "    </tr>\n",
       "  </tbody>\n",
       "</table>\n",
       "</div>"
      ],
      "text/plain": [
       "                                                                                                                                       text airline_sentiment\n",
       "0  @SouthwestAir can you make a premium wifi that I can pay $30 for that is decent? #slow-fi                                                 negative        \n",
       "1  @USAirways thanks! Made it safely! http://t.co/KCqeBEej7S                                                                                 positive        \n",
       "2  @AmericanAir now down to only one agent helping a stagnant line of almost 100 customers. Super.                                           negative        \n",
       "3  @SouthwestAir Just sent DM with confirmation number and passenger name on SWA 3104 MCO-&gt;CMH                                            neutral         \n",
       "4  @AmericanAir that's unacceptable. They should allow me to wait on hold, or take my number and call me themselves.                         negative        \n",
       "5  @united v upset with your disability  \"services\". When I told one of your employees I was carrying medical equipment she was very rude.   negative        \n",
       "6  @USAirways on the phone over an hour waiting for customer service  got wrong fight information cost us 6 hours from trip. Frustrating!!!  negative        \n",
       "7  @AmericanAir any ways to get through the 50 minute wait to book a flight?                                                                 negative        \n",
       "8  @united holy high speed internet batman!  Speeds at United Club at IAD are insanely fast!  Thanks                                         positive        \n",
       "9  @united lots of reports of system failures delaying flights over the last week. Currently sitting on the tarmac at OGG for over an hour.  negative        "
      ]
     },
     "execution_count": 3,
     "metadata": {
      "tags": []
     },
     "output_type": "execute_result"
    }
   ],
   "source": [
    "df = pd.read_csv('Tweets.csv')\n",
    "df = df.reindex(np.random.permutation(df.index)) \n",
    "df.reset_index(inplace=True)\n",
    "df.drop('index',inplace=True,axis=1)\n",
    "df = df[['text', 'airline_sentiment']]\n",
    "df.head(10)"
   ]
  },
  {
   "cell_type": "markdown",
   "metadata": {
    "id": "hIla8_RGa6px"
   },
   "source": [
    "**Exploratory Analysis and Preprocessing** "
   ]
  },
  {
   "cell_type": "code",
   "execution_count": 4,
   "metadata": {
    "id": "y9lrznyVbf7l"
   },
   "outputs": [],
   "source": [
    "\n",
    "class TextCounts(BaseEstimator, TransformerMixin):\n",
    "\n",
    "  #Identifying the substring patterns in the tweet  \n",
    "  \n",
    "    def count_regex(self, pattern, tweet):\n",
    "        return len(re.findall(pattern, tweet))\n",
    "\n",
    "  #Fit method on the train data \n",
    "  \n",
    "    def fit(self, X, y=None, **fit_params):\n",
    "        return self\n",
    "\n",
    "  #Pre-processing all the alphanumeric character \n",
    "\n",
    "    def transform(self, X, **transform_params):\n",
    "        count_words = X.apply(lambda x: self.count_regex(r'\\w+', x)) \n",
    "        count_mentions = X.apply(lambda x: self.count_regex(r'@\\w+', x))\n",
    "        count_hashtags = X.apply(lambda x: self.count_regex(r'#\\w+', x))\n",
    "        count_capital_words = X.apply(lambda x: self.count_regex(r'\\b[A-Z]{2,}\\b', x))\n",
    "        count_excl_quest_marks = X.apply(lambda x: self.count_regex(r'!|\\?+', x))\n",
    "        count_urls = X.apply(lambda x: self.count_regex(r'https?://[^\\s]+[\\s]?', x))\n",
    "        # We will replace the emoji symbols with a description, which makes using a regex for counting easier\n",
    "        # Moreover, it will result in having more words in the tweet\n",
    "        count_emojis = X.apply(lambda x: emoji.demojize(x)).apply(lambda x: self.count_regex(r':[a-z_&]+:', x))\n",
    "\n",
    "        df = pd.DataFrame({'count_words': count_words\n",
    "                           , 'count_mentions': count_mentions\n",
    "                           , 'count_hashtags': count_hashtags\n",
    "                           , 'count_capital_words': count_capital_words\n",
    "                           , 'count_excl_quest_marks': count_excl_quest_marks\n",
    "                           , 'count_urls': count_urls\n",
    "                           , 'count_emojis': count_emojis\n",
    "                          })\n",
    "        \n",
    "        return df"
   ]
  },
  {
   "cell_type": "markdown",
   "metadata": {
    "id": "tlgfVwqwc6aF"
   },
   "source": [
    "**Exploratory Analysis**"
   ]
  },
  {
   "cell_type": "code",
   "execution_count": 5,
   "metadata": {
    "colab": {
     "base_uri": "https://localhost:8080/",
     "height": 355
    },
    "id": "DaD42dzcdDcJ",
    "outputId": "87256481-a07f-4f81-ead4-e04901031b03"
   },
   "outputs": [
    {
     "data": {
      "text/html": [
       "<div>\n",
       "<style scoped>\n",
       "    .dataframe tbody tr th:only-of-type {\n",
       "        vertical-align: middle;\n",
       "    }\n",
       "\n",
       "    .dataframe tbody tr th {\n",
       "        vertical-align: top;\n",
       "    }\n",
       "\n",
       "    .dataframe thead th {\n",
       "        text-align: right;\n",
       "    }\n",
       "</style>\n",
       "<table border=\"1\" class=\"dataframe\">\n",
       "  <thead>\n",
       "    <tr style=\"text-align: right;\">\n",
       "      <th></th>\n",
       "      <th>count_words</th>\n",
       "      <th>count_mentions</th>\n",
       "      <th>count_hashtags</th>\n",
       "      <th>count_capital_words</th>\n",
       "      <th>count_excl_quest_marks</th>\n",
       "      <th>count_urls</th>\n",
       "      <th>count_emojis</th>\n",
       "      <th>airline_sentiment</th>\n",
       "    </tr>\n",
       "  </thead>\n",
       "  <tbody>\n",
       "    <tr>\n",
       "      <th>0</th>\n",
       "      <td>18</td>\n",
       "      <td>1</td>\n",
       "      <td>1</td>\n",
       "      <td>0</td>\n",
       "      <td>1</td>\n",
       "      <td>0</td>\n",
       "      <td>0</td>\n",
       "      <td>negative</td>\n",
       "    </tr>\n",
       "    <tr>\n",
       "      <th>1</th>\n",
       "      <td>9</td>\n",
       "      <td>1</td>\n",
       "      <td>0</td>\n",
       "      <td>0</td>\n",
       "      <td>2</td>\n",
       "      <td>1</td>\n",
       "      <td>0</td>\n",
       "      <td>positive</td>\n",
       "    </tr>\n",
       "    <tr>\n",
       "      <th>2</th>\n",
       "      <td>16</td>\n",
       "      <td>1</td>\n",
       "      <td>0</td>\n",
       "      <td>0</td>\n",
       "      <td>0</td>\n",
       "      <td>0</td>\n",
       "      <td>0</td>\n",
       "      <td>negative</td>\n",
       "    </tr>\n",
       "    <tr>\n",
       "      <th>3</th>\n",
       "      <td>16</td>\n",
       "      <td>1</td>\n",
       "      <td>0</td>\n",
       "      <td>4</td>\n",
       "      <td>0</td>\n",
       "      <td>0</td>\n",
       "      <td>0</td>\n",
       "      <td>neutral</td>\n",
       "    </tr>\n",
       "    <tr>\n",
       "      <th>4</th>\n",
       "      <td>20</td>\n",
       "      <td>1</td>\n",
       "      <td>0</td>\n",
       "      <td>0</td>\n",
       "      <td>0</td>\n",
       "      <td>0</td>\n",
       "      <td>0</td>\n",
       "      <td>negative</td>\n",
       "    </tr>\n",
       "    <tr>\n",
       "      <th>5</th>\n",
       "      <td>23</td>\n",
       "      <td>1</td>\n",
       "      <td>0</td>\n",
       "      <td>0</td>\n",
       "      <td>0</td>\n",
       "      <td>0</td>\n",
       "      <td>0</td>\n",
       "      <td>negative</td>\n",
       "    </tr>\n",
       "    <tr>\n",
       "      <th>6</th>\n",
       "      <td>22</td>\n",
       "      <td>1</td>\n",
       "      <td>0</td>\n",
       "      <td>0</td>\n",
       "      <td>3</td>\n",
       "      <td>0</td>\n",
       "      <td>0</td>\n",
       "      <td>negative</td>\n",
       "    </tr>\n",
       "    <tr>\n",
       "      <th>7</th>\n",
       "      <td>14</td>\n",
       "      <td>1</td>\n",
       "      <td>0</td>\n",
       "      <td>0</td>\n",
       "      <td>1</td>\n",
       "      <td>0</td>\n",
       "      <td>0</td>\n",
       "      <td>negative</td>\n",
       "    </tr>\n",
       "    <tr>\n",
       "      <th>8</th>\n",
       "      <td>16</td>\n",
       "      <td>1</td>\n",
       "      <td>0</td>\n",
       "      <td>1</td>\n",
       "      <td>2</td>\n",
       "      <td>0</td>\n",
       "      <td>0</td>\n",
       "      <td>positive</td>\n",
       "    </tr>\n",
       "    <tr>\n",
       "      <th>9</th>\n",
       "      <td>24</td>\n",
       "      <td>1</td>\n",
       "      <td>0</td>\n",
       "      <td>1</td>\n",
       "      <td>0</td>\n",
       "      <td>0</td>\n",
       "      <td>0</td>\n",
       "      <td>negative</td>\n",
       "    </tr>\n",
       "  </tbody>\n",
       "</table>\n",
       "</div>"
      ],
      "text/plain": [
       "   count_words  count_mentions  ...  count_emojis  airline_sentiment\n",
       "0  18           1               ...  0             negative         \n",
       "1  9            1               ...  0             positive         \n",
       "2  16           1               ...  0             negative         \n",
       "3  16           1               ...  0             neutral          \n",
       "4  20           1               ...  0             negative         \n",
       "5  23           1               ...  0             negative         \n",
       "6  22           1               ...  0             negative         \n",
       "7  14           1               ...  0             negative         \n",
       "8  16           1               ...  0             positive         \n",
       "9  24           1               ...  0             negative         \n",
       "\n",
       "[10 rows x 8 columns]"
      ]
     },
     "execution_count": 5,
     "metadata": {
      "tags": []
     },
     "output_type": "execute_result"
    }
   ],
   "source": [
    "from sklearn.feature_extraction.text import CountVectorizer\n",
    "\n",
    "tc = TextCounts()\n",
    "\n",
    "df_djb = tc.fit_transform(df.text)\n",
    "df_djb['airline_sentiment'] = df.airline_sentiment\n",
    "df_djb.head(10)"
   ]
  },
  {
   "cell_type": "code",
   "execution_count": 6,
   "metadata": {
    "colab": {
     "base_uri": "https://localhost:8080/",
     "height": 355
    },
    "id": "ToAZBI5Z57SS",
    "outputId": "209eaf94-fe0d-412e-ae70-6b7b939911e7"
   },
   "outputs": [
    {
     "data": {
      "text/html": [
       "<div>\n",
       "<style scoped>\n",
       "    .dataframe tbody tr th:only-of-type {\n",
       "        vertical-align: middle;\n",
       "    }\n",
       "\n",
       "    .dataframe tbody tr th {\n",
       "        vertical-align: top;\n",
       "    }\n",
       "\n",
       "    .dataframe thead th {\n",
       "        text-align: right;\n",
       "    }\n",
       "</style>\n",
       "<table border=\"1\" class=\"dataframe\">\n",
       "  <thead>\n",
       "    <tr style=\"text-align: right;\">\n",
       "      <th></th>\n",
       "      <th>count_words</th>\n",
       "      <th>count_mentions</th>\n",
       "      <th>count_hashtags</th>\n",
       "      <th>count_capital_words</th>\n",
       "      <th>count_excl_quest_marks</th>\n",
       "      <th>count_urls</th>\n",
       "      <th>count_emojis</th>\n",
       "      <th>airline_sentiment</th>\n",
       "    </tr>\n",
       "  </thead>\n",
       "  <tbody>\n",
       "    <tr>\n",
       "      <th>0</th>\n",
       "      <td>18</td>\n",
       "      <td>1</td>\n",
       "      <td>1</td>\n",
       "      <td>0</td>\n",
       "      <td>1</td>\n",
       "      <td>0</td>\n",
       "      <td>0</td>\n",
       "      <td>negative</td>\n",
       "    </tr>\n",
       "    <tr>\n",
       "      <th>1</th>\n",
       "      <td>9</td>\n",
       "      <td>1</td>\n",
       "      <td>0</td>\n",
       "      <td>0</td>\n",
       "      <td>2</td>\n",
       "      <td>1</td>\n",
       "      <td>0</td>\n",
       "      <td>positive</td>\n",
       "    </tr>\n",
       "    <tr>\n",
       "      <th>2</th>\n",
       "      <td>16</td>\n",
       "      <td>1</td>\n",
       "      <td>0</td>\n",
       "      <td>0</td>\n",
       "      <td>0</td>\n",
       "      <td>0</td>\n",
       "      <td>0</td>\n",
       "      <td>negative</td>\n",
       "    </tr>\n",
       "    <tr>\n",
       "      <th>3</th>\n",
       "      <td>16</td>\n",
       "      <td>1</td>\n",
       "      <td>0</td>\n",
       "      <td>4</td>\n",
       "      <td>0</td>\n",
       "      <td>0</td>\n",
       "      <td>0</td>\n",
       "      <td>neutral</td>\n",
       "    </tr>\n",
       "    <tr>\n",
       "      <th>4</th>\n",
       "      <td>20</td>\n",
       "      <td>1</td>\n",
       "      <td>0</td>\n",
       "      <td>0</td>\n",
       "      <td>0</td>\n",
       "      <td>0</td>\n",
       "      <td>0</td>\n",
       "      <td>negative</td>\n",
       "    </tr>\n",
       "    <tr>\n",
       "      <th>5</th>\n",
       "      <td>23</td>\n",
       "      <td>1</td>\n",
       "      <td>0</td>\n",
       "      <td>0</td>\n",
       "      <td>0</td>\n",
       "      <td>0</td>\n",
       "      <td>0</td>\n",
       "      <td>negative</td>\n",
       "    </tr>\n",
       "    <tr>\n",
       "      <th>6</th>\n",
       "      <td>22</td>\n",
       "      <td>1</td>\n",
       "      <td>0</td>\n",
       "      <td>0</td>\n",
       "      <td>3</td>\n",
       "      <td>0</td>\n",
       "      <td>0</td>\n",
       "      <td>negative</td>\n",
       "    </tr>\n",
       "    <tr>\n",
       "      <th>7</th>\n",
       "      <td>14</td>\n",
       "      <td>1</td>\n",
       "      <td>0</td>\n",
       "      <td>0</td>\n",
       "      <td>1</td>\n",
       "      <td>0</td>\n",
       "      <td>0</td>\n",
       "      <td>negative</td>\n",
       "    </tr>\n",
       "    <tr>\n",
       "      <th>8</th>\n",
       "      <td>16</td>\n",
       "      <td>1</td>\n",
       "      <td>0</td>\n",
       "      <td>1</td>\n",
       "      <td>2</td>\n",
       "      <td>0</td>\n",
       "      <td>0</td>\n",
       "      <td>positive</td>\n",
       "    </tr>\n",
       "    <tr>\n",
       "      <th>9</th>\n",
       "      <td>24</td>\n",
       "      <td>1</td>\n",
       "      <td>0</td>\n",
       "      <td>1</td>\n",
       "      <td>0</td>\n",
       "      <td>0</td>\n",
       "      <td>0</td>\n",
       "      <td>negative</td>\n",
       "    </tr>\n",
       "  </tbody>\n",
       "</table>\n",
       "</div>"
      ],
      "text/plain": [
       "   count_words  count_mentions  ...  count_emojis  airline_sentiment\n",
       "0  18           1               ...  0             negative         \n",
       "1  9            1               ...  0             positive         \n",
       "2  16           1               ...  0             negative         \n",
       "3  16           1               ...  0             neutral          \n",
       "4  20           1               ...  0             negative         \n",
       "5  23           1               ...  0             negative         \n",
       "6  22           1               ...  0             negative         \n",
       "7  14           1               ...  0             negative         \n",
       "8  16           1               ...  0             positive         \n",
       "9  24           1               ...  0             negative         \n",
       "\n",
       "[10 rows x 8 columns]"
      ]
     },
     "execution_count": 6,
     "metadata": {
      "tags": []
     },
     "output_type": "execute_result"
    }
   ],
   "source": [
    "df_djb['airline_sentiment'] = df.airline_sentiment\n",
    "df_djb.head(10)"
   ]
  },
  {
   "cell_type": "code",
   "execution_count": 7,
   "metadata": {
    "id": "cpRLJmvL6gRI"
   },
   "outputs": [],
   "source": [
    "def show_dist(df, col):\n",
    "    print('Descriptive stats for {}'.format(col))\n",
    "    print('-'*(len(col)+22))\n",
    "    print(df.groupby('airline_sentiment')[col].describe())\n",
    "    bins = np.arange(df[col].min(), df[col].max() + 1)\n",
    "    g = sns.FacetGrid(df, col='airline_sentiment', size=5, hue='airline_sentiment', palette=\"brg\")\n",
    "    g = g.map(sns.distplot, col, kde=False, norm_hist=True, bins=bins)\n",
    "    plt.show()"
   ]
  },
  {
   "cell_type": "code",
   "execution_count": 8,
   "metadata": {
    "colab": {
     "base_uri": "https://localhost:8080/",
     "height": 584
    },
    "id": "Zjus7oGJ6oTp",
    "outputId": "d0bae24a-f305-4734-fed3-dcd4552b2750"
   },
   "outputs": [
    {
     "name": "stdout",
     "output_type": "stream",
     "text": [
      "Descriptive stats for count_words\n",
      "---------------------------------\n",
      "                    count       mean       std  min   25%   50%   75%   max\n",
      "airline_sentiment                                                          \n",
      "negative           9178.0  20.387557  6.100020  2.0  17.0  22.0  25.0  35.0\n",
      "neutral            3099.0  15.290094  7.150738  2.0  10.0  15.0  21.0  34.0\n",
      "positive           2363.0  14.478206  7.266129  2.0  8.0   14.0  21.0  33.0\n"
     ]
    },
    {
     "name": "stderr",
     "output_type": "stream",
     "text": [
      "/usr/local/lib/python3.7/dist-packages/seaborn/axisgrid.py:316: UserWarning: The `size` parameter has been renamed to `height`; please update your code.\n",
      "  warnings.warn(msg, UserWarning)\n",
      "/usr/local/lib/python3.7/dist-packages/seaborn/distributions.py:2557: FutureWarning: `distplot` is a deprecated function and will be removed in a future version. Please adapt your code to use either `displot` (a figure-level function with similar flexibility) or `histplot` (an axes-level function for histograms).\n",
      "  warnings.warn(msg, FutureWarning)\n"
     ]
    },
    {
     "data": {
      "image/png": "[encoded data removed]",
      "text/plain": [
       "<Figure size 1080x360 with 3 Axes>"
      ]
     },
     "metadata": {
      "needs_background": "light",
      "tags": []
     },
     "output_type": "display_data"
    }
   ],
   "source": [
    "show_dist(df_djb, 'count_words')"
   ]
  },
  {
   "cell_type": "markdown",
   "metadata": {
    "id": "e9azZSnkNOMd"
   },
   "source": [
    "Insights\n",
    "\n",
    "The largest number of words is 30(+) and negative tweets contain more words than both neutral or positive tweets."
   ]
  },
  {
   "cell_type": "code",
   "execution_count": 9,
   "metadata": {
    "colab": {
     "base_uri": "https://localhost:8080/",
     "height": 584
    },
    "id": "O7meIqSFDSHt",
    "outputId": "b5e65d65-de8d-414e-c8bc-18b9f7a22f05"
   },
   "outputs": [
    {
     "name": "stdout",
     "output_type": "stream",
     "text": [
      "Descriptive stats for count_mentions\n",
      "------------------------------------\n",
      "                    count      mean       std  min  25%  50%  75%  max\n",
      "airline_sentiment                                                     \n",
      "negative           9178.0  1.111244  0.365420  1.0  1.0  1.0  1.0  6.0\n",
      "neutral            3099.0  1.167473  0.480102  1.0  1.0  1.0  1.0  5.0\n",
      "positive           2363.0  1.138383  0.432462  1.0  1.0  1.0  1.0  6.0\n"
     ]
    },
    {
     "name": "stderr",
     "output_type": "stream",
     "text": [
      "/usr/local/lib/python3.7/dist-packages/seaborn/axisgrid.py:316: UserWarning: The `size` parameter has been renamed to `height`; please update your code.\n",
      "  warnings.warn(msg, UserWarning)\n",
      "/usr/local/lib/python3.7/dist-packages/seaborn/distributions.py:2557: FutureWarning: `distplot` is a deprecated function and will be removed in a future version. Please adapt your code to use either `displot` (a figure-level function with similar flexibility) or `histplot` (an axes-level function for histograms).\n",
      "  warnings.warn(msg, FutureWarning)\n"
     ]
    },
    {
     "data": {
      "image/png": "[encoded data removed]",
      "text/plain": [
       "<Figure size 1080x360 with 3 Axes>"
      ]
     },
     "metadata": {
      "needs_background": "light",
      "tags": []
     },
     "output_type": "display_data"
    }
   ],
   "source": [
    "show_dist(df_djb, 'count_mentions')"
   ]
  },
  {
   "cell_type": "markdown",
   "metadata": {
    "id": "YeJzbYvpOGtt"
   },
   "source": [
    "Insights\n",
    "\n",
    "All tweets have at least one mention based on the result of extracting the tweets based on mentions in the Twitter data. However, there is no difference in the number of mentions with respect to the sentiment.\n"
   ]
  },
  {
   "cell_type": "code",
   "execution_count": 10,
   "metadata": {
    "colab": {
     "base_uri": "https://localhost:8080/",
     "height": 584
    },
    "id": "CmxpQ2PVDcDV",
    "outputId": "6db1a1eb-023b-4588-9bce-fc76e3479379"
   },
   "outputs": [
    {
     "name": "stdout",
     "output_type": "stream",
     "text": [
      "Descriptive stats for count_hashtags\n",
      "------------------------------------\n",
      "                    count      mean       std  min  25%  50%  75%  max\n",
      "airline_sentiment                                                     \n",
      "negative           9178.0  0.233384  0.615099  0.0  0.0  0.0  0.0  6.0\n",
      "neutral            3099.0  0.212004  0.666382  0.0  0.0  0.0  0.0  6.0\n",
      "positive           2363.0  0.297503  0.774776  0.0  0.0  0.0  0.0  8.0\n"
     ]
    },
    {
     "name": "stderr",
     "output_type": "stream",
     "text": [
      "/usr/local/lib/python3.7/dist-packages/seaborn/axisgrid.py:316: UserWarning: The `size` parameter has been renamed to `height`; please update your code.\n",
      "  warnings.warn(msg, UserWarning)\n",
      "/usr/local/lib/python3.7/dist-packages/seaborn/distributions.py:2557: FutureWarning: `distplot` is a deprecated function and will be removed in a future version. Please adapt your code to use either `displot` (a figure-level function with similar flexibility) or `histplot` (an axes-level function for histograms).\n",
      "  warnings.warn(msg, FutureWarning)\n"
     ]
    },
    {
     "data": {
      "image/png": "[encoded data removed]",
      "text/plain": [
       "<Figure size 1080x360 with 3 Axes>"
      ]
     },
     "metadata": {
      "needs_background": "light",
      "tags": []
     },
     "output_type": "display_data"
    }
   ],
   "source": [
    "show_dist(df_djb, 'count_hashtags')"
   ]
  },
  {
   "cell_type": "markdown",
   "metadata": {
    "id": "zWswb-NNQD14"
   },
   "source": [
    "Insights:\n",
    "\n",
    "According to the data most of the tweets doesnt contain hash tags an there is no difference in the number of hash tags with respect to the sentiment."
   ]
  },
  {
   "cell_type": "code",
   "execution_count": 11,
   "metadata": {
    "colab": {
     "base_uri": "https://localhost:8080/",
     "height": 584
    },
    "id": "Ao980q6OD0DK",
    "outputId": "a91141a3-1547-448f-f8d1-679741f31f2e"
   },
   "outputs": [
    {
     "name": "stdout",
     "output_type": "stream",
     "text": [
      "Descriptive stats for count_capital_words\n",
      "-----------------------------------------\n",
      "                    count      mean       std  min  25%  50%  75%   max\n",
      "airline_sentiment                                                      \n",
      "negative           9178.0  0.429070  1.019710  0.0  0.0  0.0  1.0  22.0\n",
      "neutral            3099.0  0.462085  0.939468  0.0  0.0  0.0  1.0  11.0\n",
      "positive           2363.0  0.461278  1.234078  0.0  0.0  0.0  1.0  20.0\n"
     ]
    },
    {
     "name": "stderr",
     "output_type": "stream",
     "text": [
      "/usr/local/lib/python3.7/dist-packages/seaborn/axisgrid.py:316: UserWarning: The `size` parameter has been renamed to `height`; please update your code.\n",
      "  warnings.warn(msg, UserWarning)\n",
      "/usr/local/lib/python3.7/dist-packages/seaborn/distributions.py:2557: FutureWarning: `distplot` is a deprecated function and will be removed in a future version. Please adapt your code to use either `displot` (a figure-level function with similar flexibility) or `histplot` (an axes-level function for histograms).\n",
      "  warnings.warn(msg, FutureWarning)\n"
     ]
    },
    {
     "data": {
      "image/png": "[encoded data removed]",
      "text/plain": [
       "<Figure size 1080x360 with 3 Axes>"
      ]
     },
     "metadata": {
      "needs_background": "light",
      "tags": []
     },
     "output_type": "display_data"
    }
   ],
   "source": [
    "show_dist(df_djb, 'count_capital_words')"
   ]
  },
  {
   "cell_type": "markdown",
   "metadata": {
    "id": "IO7TSvh-Pmqh"
   },
   "source": [
    "Insights:\n",
    "\n",
    "According to the data most of the tweets do not contain capitailzed words and there is no difference in sentiment"
   ]
  },
  {
   "cell_type": "code",
   "execution_count": 12,
   "metadata": {
    "colab": {
     "base_uri": "https://localhost:8080/",
     "height": 584
    },
    "id": "q-wfOkJBD7BB",
    "outputId": "600062c1-b439-4f90-da2a-cc4e7d6a207b"
   },
   "outputs": [
    {
     "name": "stdout",
     "output_type": "stream",
     "text": [
      "Descriptive stats for count_excl_quest_marks\n",
      "--------------------------------------------\n",
      "                    count      mean       std  min  25%  50%  75%   max\n",
      "airline_sentiment                                                      \n",
      "negative           9178.0  0.589235  1.041339  0.0  0.0  0.0  1.0  27.0\n",
      "neutral            3099.0  0.639238  0.868104  0.0  0.0  0.0  1.0  12.0\n",
      "positive           2363.0  0.890394  1.198117  0.0  0.0  1.0  1.0  13.0\n"
     ]
    },
    {
     "name": "stderr",
     "output_type": "stream",
     "text": [
      "/usr/local/lib/python3.7/dist-packages/seaborn/axisgrid.py:316: UserWarning: The `size` parameter has been renamed to `height`; please update your code.\n",
      "  warnings.warn(msg, UserWarning)\n",
      "/usr/local/lib/python3.7/dist-packages/seaborn/distributions.py:2557: FutureWarning: `distplot` is a deprecated function and will be removed in a future version. Please adapt your code to use either `displot` (a figure-level function with similar flexibility) or `histplot` (an axes-level function for histograms).\n",
      "  warnings.warn(msg, FutureWarning)\n"
     ]
    },
    {
     "data": {
      "image/png": "[encoded data removed]",
      "text/plain": [
       "<Figure size 1080x360 with 3 Axes>"
      ]
     },
     "metadata": {
      "needs_background": "light",
      "tags": []
     },
     "output_type": "display_data"
    }
   ],
   "source": [
    "show_dist(df_djb, 'count_excl_quest_marks')"
   ]
  },
  {
   "cell_type": "markdown",
   "metadata": {
    "id": "vVIOawrsQaSO"
   },
   "source": [
    "Insights:\n",
    "\n",
    "The negative tweets seem to be using a bit more exclamation or question marks"
   ]
  },
  {
   "cell_type": "code",
   "execution_count": 13,
   "metadata": {
    "colab": {
     "base_uri": "https://localhost:8080/",
     "height": 584
    },
    "id": "TZLkpyUSEDbf",
    "outputId": "efb50392-5af9-46a5-8087-4b07c2bd1cc3"
   },
   "outputs": [
    {
     "name": "stdout",
     "output_type": "stream",
     "text": [
      "Descriptive stats for count_urls\n",
      "--------------------------------\n",
      "                    count      mean       std  min  25%  50%  75%  max\n",
      "airline_sentiment                                                     \n",
      "negative           9178.0  0.049248  0.218403  0.0  0.0  0.0  0.0  2.0\n",
      "neutral            3099.0  0.169732  0.401225  0.0  0.0  0.0  0.0  3.0\n",
      "positive           2363.0  0.098603  0.303818  0.0  0.0  0.0  0.0  2.0\n"
     ]
    },
    {
     "name": "stderr",
     "output_type": "stream",
     "text": [
      "/usr/local/lib/python3.7/dist-packages/seaborn/axisgrid.py:316: UserWarning: The `size` parameter has been renamed to `height`; please update your code.\n",
      "  warnings.warn(msg, UserWarning)\n",
      "/usr/local/lib/python3.7/dist-packages/seaborn/distributions.py:2557: FutureWarning: `distplot` is a deprecated function and will be removed in a future version. Please adapt your code to use either `displot` (a figure-level function with similar flexibility) or `histplot` (an axes-level function for histograms).\n",
      "  warnings.warn(msg, FutureWarning)\n"
     ]
    },
    {
     "data": {
      "image/png": "[encoded data removed]",
      "text/plain": [
       "<Figure size 1080x360 with 3 Axes>"
      ]
     },
     "metadata": {
      "needs_background": "light",
      "tags": []
     },
     "output_type": "display_data"
    }
   ],
   "source": [
    "show_dist(df_djb, 'count_urls')"
   ]
  },
  {
   "cell_type": "markdown",
   "metadata": {
    "id": "ZJ1pwWkCQp4u"
   },
   "source": [
    "Insights:\n",
    "\n",
    "Majority of the tweets do not contain URL"
   ]
  },
  {
   "cell_type": "code",
   "execution_count": 14,
   "metadata": {
    "colab": {
     "base_uri": "https://localhost:8080/",
     "height": 584
    },
    "id": "HZ82pecYENHU",
    "outputId": "b519cc34-99df-438c-a63b-60b4252791d5"
   },
   "outputs": [
    {
     "name": "stdout",
     "output_type": "stream",
     "text": [
      "Descriptive stats for count_emojis\n",
      "----------------------------------\n",
      "                    count      mean       std  min  25%  50%  75%   max\n",
      "airline_sentiment                                                      \n",
      "negative           9178.0  0.028547  0.258772  0.0  0.0  0.0  0.0  8.0 \n",
      "neutral            3099.0  0.075831  0.492415  0.0  0.0  0.0  0.0  13.0\n",
      "positive           2363.0  0.181549  1.257512  0.0  0.0  0.0  0.0  40.0\n"
     ]
    },
    {
     "name": "stderr",
     "output_type": "stream",
     "text": [
      "/usr/local/lib/python3.7/dist-packages/seaborn/axisgrid.py:316: UserWarning: The `size` parameter has been renamed to `height`; please update your code.\n",
      "  warnings.warn(msg, UserWarning)\n",
      "/usr/local/lib/python3.7/dist-packages/seaborn/distributions.py:2557: FutureWarning: `distplot` is a deprecated function and will be removed in a future version. Please adapt your code to use either `displot` (a figure-level function with similar flexibility) or `histplot` (an axes-level function for histograms).\n",
      "  warnings.warn(msg, FutureWarning)\n"
     ]
    },
    {
     "data": {
      "image/png": "[encoded data removed]",
      "text/plain": [
       "<Figure size 1080x360 with 3 Axes>"
      ]
     },
     "metadata": {
      "needs_background": "light",
      "tags": []
     },
     "output_type": "display_data"
    }
   ],
   "source": [
    "show_dist(df_djb, 'count_emojis')"
   ]
  },
  {
   "cell_type": "markdown",
   "metadata": {
    "id": "TfnJLFA_Q3hO"
   },
   "source": [
    "Insights:\n",
    "Majority of the tweets do not contain emojis"
   ]
  },
  {
   "cell_type": "markdown",
   "metadata": {
    "id": "v4-r70TLREpp"
   },
   "source": [
    "**Text Cleaning**"
   ]
  },
  {
   "cell_type": "code",
   "execution_count": 15,
   "metadata": {
    "id": "E-BJVBw6EVph"
   },
   "outputs": [],
   "source": [
    "class CleanText(BaseEstimator, TransformerMixin):\n",
    "\n",
    "  # Remove the mentions, I want to generalize to tweets of other airline companies too.\n",
    "    def remove_mentions(self, input_text):\n",
    "        return re.sub(r'@\\w+', '', input_text)\n",
    "    \n",
    "  # Remove URLs because they do not contain useful information\n",
    "    def remove_urls(self, input_text):\n",
    "        return re.sub(r'http.?://[^\\s]+[\\s]?', '', input_text)\n",
    "    \n",
    "    def emoji_oneword(self, input_text):\n",
    "        # By compressing the underscore, the emoji is kept as one word\n",
    "        return input_text.replace('_','')\n",
    "\n",
    "  #  Remove all punctuation, including question marks and exclamation marks\n",
    "    def remove_punctuation(self, input_text):\n",
    "        # Make translation table\n",
    "        punct = string.punctuation\n",
    "        trantab = str.maketrans(punct, len(punct)*' ')  # Every punctuation symbol will be replaced by a space\n",
    "        return input_text.translate(trantab)\n",
    "\n",
    "    def remove_digits(self, input_text):\n",
    "        return re.sub('\\d+', '', input_text)\n",
    "\n",
    "  # Set all words to lowercase\n",
    "    def to_lower(self, input_text):\n",
    "        return input_text.lower()\n",
    "    \n",
    "    def remove_stopwords(self, input_text):\n",
    "        stopwords_list = stopwords.words('english')\n",
    "        # Some words which might indicate a certain sentiment are kept via a whitelist\n",
    "        whitelist = [\"n't\", \"not\", \"no\"]\n",
    "        words = input_text.split() \n",
    "        clean_words = [word for word in words if (word not in stopwords_list or word in whitelist) and len(word) > 1] \n",
    "        return \" \".join(clean_words) \n",
    "\n",
    "  # Apply PorterStemmer to keep the st3em of the words   \n",
    "    def stemming(self, input_text):\n",
    "        porter = PorterStemmer()\n",
    "        words = input_text.split() \n",
    "        stemmed_words = [porter.stem(word) for word in words]\n",
    "        return \" \".join(stemmed_words)\n",
    "    \n",
    "    def fit(self, X, y=None, **fit_params):\n",
    "        return self\n",
    "    \n",
    "    def transform(self, X, **transform_params):\n",
    "        clean_X = X.apply(self.remove_mentions).apply(self.remove_urls).apply(self.emoji_oneword).apply(self.remove_punctuation).apply(self.remove_digits).apply(self.to_lower).apply(self.remove_stopwords).apply(self.stemming)\n",
    "        return clean_X"
   ]
  },
  {
   "cell_type": "code",
   "execution_count": 16,
   "metadata": {
    "colab": {
     "base_uri": "https://localhost:8080/"
    },
    "id": "AJY19Dt0Emay",
    "outputId": "cf332fdf-e883-4b80-8165-d503a21548fb"
   },
   "outputs": [
    {
     "name": "stdout",
     "output_type": "stream",
     "text": [
      "22 records have no words left after text cleaning\n"
     ]
    }
   ],
   "source": [
    "from nltk.corpus import stopwords\n",
    "from nltk.stem import PorterStemmer\n",
    "from nltk.tokenize import word_tokenize\n",
    "from sklearn.feature_extraction.text import CountVectorizer\n",
    "ct = CleanText()\n",
    "sr_clean = ct.fit_transform(df.text)\n",
    "sr_clean.sample(5)\n",
    "empty_clean = sr_clean == ''\n",
    "print('{} records have no words left after text cleaning'.format(sr_clean[empty_clean].count()))\n",
    "sr_clean.loc[empty_clean] = '[no_text]'"
   ]
  },
  {
   "cell_type": "code",
   "execution_count": 17,
   "metadata": {
    "colab": {
     "base_uri": "https://localhost:8080/"
    },
    "id": "LHk-dS1JFRjX",
    "outputId": "7ba7a17d-0077-4cfc-e4b2-6bf51b8f3b96"
   },
   "outputs": [
    {
     "name": "stdout",
     "output_type": "stream",
     "text": [
      "0 records have no words left after text cleaning\n",
      "0    make premium wifi pay decent slow fi              \n",
      "1    thank made safe                                   \n",
      "2    one agent help stagnant line almost custom super  \n",
      "3    sent dm confirm number passeng name swa mco gt cmh\n",
      "4    unaccept allow wait hold take number call         \n",
      "Name: text, dtype: object\n"
     ]
    }
   ],
   "source": [
    "\n",
    "i=1\n",
    "empty_clean = sr_clean == ''\n",
    "\n",
    "\n",
    "print('{} records have no words left after text cleaning'.format(sr_clean[empty_clean].count()))\n",
    "sr_clean.loc[empty_clean] = '[no_text]'\n",
    "print (sr_clean[0:5])"
   ]
  },
  {
   "cell_type": "code",
   "execution_count": 18,
   "metadata": {
    "colab": {
     "base_uri": "https://localhost:8080/"
    },
    "id": "wKTxCePwFbkD",
    "outputId": "eb67f2b8-d1ef-43ba-c6b2-0f3deaeee6fc"
   },
   "outputs": [
    {
     "data": {
      "text/plain": [
       "['aa',\n",
       " 'aaaand',\n",
       " 'aaadvantag',\n",
       " 'aaalwaysl',\n",
       " 'aadavantag',\n",
       " 'aadelay',\n",
       " 'aadv',\n",
       " 'aadvantag',\n",
       " 'aafail',\n",
       " 'aal',\n",
       " 'aaron',\n",
       " 'aaso',\n",
       " 'aateam',\n",
       " 'ab',\n",
       " 'aback',\n",
       " 'abandon',\n",
       " 'abassinet',\n",
       " 'abbrev',\n",
       " 'abc',\n",
       " 'abcletjetbluestreamfe']"
      ]
     },
     "execution_count": 18,
     "metadata": {
      "tags": []
     },
     "output_type": "execute_result"
    }
   ],
   "source": [
    "cv = CountVectorizer()\n",
    "bow = cv.fit_transform(sr_clean)\n",
    "#printing only first 20\n",
    "cv.get_feature_names()[0:20]\n",
    "#bow.sum(axis=0)"
   ]
  },
  {
   "cell_type": "code",
   "execution_count": 19,
   "metadata": {
    "colab": {
     "base_uri": "https://localhost:8080/",
     "height": 990
    },
    "id": "uyMAHsBKFgcw",
    "outputId": "0ac52459-fc86-4ac7-999a-a8b3daf4ccad"
   },
   "outputs": [
    {
     "name": "stdout",
     "output_type": "stream",
     "text": [
      "      word  freq\n",
      "0   flight  4879\n",
      "1   thank   1703\n",
      "2   get     1623\n",
      "3   not     1586\n",
      "4   no      1507\n",
      "5   hour    1167\n",
      "6   cancel  1065\n",
      "7   help    1062\n",
      "8   delay   1010\n",
      "9   servic  1002\n",
      "10  time    987 \n",
      "11  custom  947 \n",
      "12  call    792 \n",
      "13  bag     771 \n",
      "14  wait    754 \n",
      "15  plane   735 \n",
      "16  us      705 \n",
      "17  fli     702 \n",
      "18  need    688 \n",
      "19  hold    687 \n"
     ]
    },
    {
     "data": {
      "image/png": "[encoded data removed]",
      "text/plain": [
       "<Figure size 1440x720 with 1 Axes>"
      ]
     },
     "metadata": {
      "needs_background": "light",
      "tags": []
     },
     "output_type": "display_data"
    }
   ],
   "source": [
    "word_freq = dict(zip(cv.get_feature_names(), np.asarray(bow.sum(axis=0)).ravel()))\n",
    "word_counter = collections.Counter(word_freq)\n",
    "word_counter_df = pd.DataFrame(word_counter.most_common(20), columns = ['word', 'freq'])\n",
    "print(word_counter_df)\n",
    "\n",
    "fig, ax = plt.subplots(figsize=(20, 10))\n",
    "sns.barplot(x=\"word\", y=\"freq\", data=word_counter_df, palette=\"brg\", ax=ax)\n",
    "plt.show();"
   ]
  },
  {
   "cell_type": "markdown",
   "metadata": {
    "id": "wY6x1yBpS2-R"
   },
   "source": [
    "Insights: \n",
    "\n",
    "Now that the data is clean the most frequently used word is flight\n"
   ]
  },
  {
   "cell_type": "code",
   "execution_count": 20,
   "metadata": {
    "colab": {
     "base_uri": "https://localhost:8080/"
    },
    "id": "_GQM0eLRFmrs",
    "outputId": "99ee2353-3c7c-469c-9748-62bc3a80df2b"
   },
   "outputs": [
    {
     "data": {
      "text/plain": [
       "['count_words',\n",
       " 'count_mentions',\n",
       " 'count_hashtags',\n",
       " 'count_capital_words',\n",
       " 'count_excl_quest_marks',\n",
       " 'count_urls',\n",
       " 'count_emojis',\n",
       " 'airline_sentiment',\n",
       " 'clean_text']"
      ]
     },
     "execution_count": 20,
     "metadata": {
      "tags": []
     },
     "output_type": "execute_result"
    }
   ],
   "source": [
    "df_model = df_djb\n",
    "df_model['clean_text'] = sr_clean\n",
    "df_model.columns.tolist()"
   ]
  },
  {
   "cell_type": "markdown",
   "metadata": {
    "id": "-bRyublwV6tu"
   },
   "source": [
    "**Hyperparameter tuning and cross validation**"
   ]
  },
  {
   "cell_type": "code",
   "execution_count": 21,
   "metadata": {
    "id": "MAP4Md2XGLUK"
   },
   "outputs": [],
   "source": [
    "class ColumnExtractor(TransformerMixin, BaseEstimator):\n",
    "    def __init__(self, cols):\n",
    "        self.cols = cols\n",
    "\n",
    "    def transform(self, X, **transform_params):\n",
    "        #print(\"I am in\")\n",
    "        \n",
    "        #print(X[self.cols].dtype())\n",
    "        return X[self.cols]\n",
    "\n",
    "    def fit(self, X, y=None, **fit_params):\n",
    "        return self"
   ]
  },
  {
   "cell_type": "code",
   "execution_count": 22,
   "metadata": {
    "id": "zLrjd_pMGRNd"
   },
   "outputs": [],
   "source": [
    "X_train, X_test, y_train, y_test = train_test_split(df_model.drop('airline_sentiment', axis=1), df_model.airline_sentiment, test_size=0.1, random_state=37)"
   ]
  },
  {
   "cell_type": "code",
   "execution_count": 23,
   "metadata": {
    "id": "CtmfWr21GeFi"
   },
   "outputs": [],
   "source": [
    "def grid_vect(clf, parameters_clf, X_train, X_test, parameters_text=None, vect=None, is_w2v=False):\n",
    "    \n",
    "    textcountscols = ['count_capital_words','count_emojis','count_excl_quest_marks','count_hashtags'\n",
    "                      ,'count_mentions','count_urls','count_words']\n",
    "    \n",
    "    if is_w2v:\n",
    "        w2vcols = []\n",
    "        print(\"not good\")\n",
    "        for i in range(SIZE):\n",
    "            w2vcols.append(i)\n",
    "        features = FeatureUnion([('textcounts', ColumnExtractor(cols=textcountscols))\n",
    "                                 , ('w2v', ColumnExtractor(cols=w2vcols))]\n",
    "                                , n_jobs=-1)\n",
    "    else:\n",
    "        print(\"ok\")\n",
    "        features = FeatureUnion([('textcounts', ColumnExtractor(cols=textcountscols))\n",
    "                                 , ('pipe', Pipeline([('cleantext', ColumnExtractor(cols='clean_text')), ('vect', vect)]))]\n",
    "                                , n_jobs=1)\n",
    "\n",
    "    \n",
    "    pipeline = Pipeline([\n",
    "        ('features', features)\n",
    "        , ('clf', clf)\n",
    "    ])\n",
    "    \n",
    "    parameters = dict()\n",
    "    if parameters_text:\n",
    "        parameters.update(parameters_text)\n",
    "    parameters.update(parameters_clf)\n",
    "\n",
    "    grid_search = GridSearchCV(pipeline, parameters, n_jobs=-1, verbose=1, cv=5)\n",
    "    \n",
    "    print(\"Performing grid search...\")\n",
    "    print(\"pipeline:\", [name for name, _ in pipeline.steps])\n",
    "    print(\"parameters:\")\n",
    "    pprint(parameters)\n",
    "\n",
    "    t0 = time()\n",
    "    grid_search.fit(X_train, y_train)\n",
    "    print(\"done in %0.3fs\" % (time() - t0))\n",
    "    print()\n",
    "\n",
    "    print(\"Best CV score: %0.3f\" % grid_search.best_score_)\n",
    "    print(\"Best parameters set:\")\n",
    "    best_parameters = grid_search.best_estimator_.get_params()\n",
    "    for param_name in sorted(parameters.keys()):\n",
    "        print(\"\\t%s: %r\" % (param_name, best_parameters[param_name]))\n",
    "        \n",
    "    print(\"Test score with best_estimator_: %0.3f\" % grid_search.best_estimator_.score(X_test, y_test))\n",
    "    print(\"\\n\")\n",
    "    print(\"Test score with best_estimator_: %0.3f\" % grid_search.best_estimator_.score(X_train, y_train))\n",
    "    print(\"\\n\")\n",
    "    print(\"Classification Report Test Data\")\n",
    "    print(classification_report(y_test, grid_search.best_estimator_.predict(X_test)))\n",
    "    print(\"Classification Report Train Data\")\n",
    "    print(classification_report(y_train, grid_search.best_estimator_.predict(X_train)))                    \n",
    "    return grid_search"
   ]
  },
  {
   "cell_type": "code",
   "execution_count": 24,
   "metadata": {
    "id": "-kIh3vO3Hdeh"
   },
   "outputs": [],
   "source": [
    "# In grid search, I will review the performance of the classifier\n",
    "parameters_vect = {\n",
    "    'features__pipe__vect__max_df': (0.25, 0.5, 0.75),\n",
    "    'features__pipe__vect__ngram_range': ((1, 1), (1, 2)),\n",
    "    'features__pipe__vect__min_df': (1,2)\n",
    "}\n",
    "\n",
    "parameters_mnb = {\n",
    "    'clf__alpha': (0.25, 0.5, 0.75)\n",
    "}\n",
    "\n",
    "parameters_logreg = {\n",
    "    'clf__C': (1.05, 1.1, 1.15,1.2),\n",
    "    'clf__penalty': ('l1', 'l2')\n",
    "}"
   ]
  },
  {
   "cell_type": "code",
   "execution_count": 25,
   "metadata": {
    "id": "Eu-bQc-ZHgqu"
   },
   "outputs": [],
   "source": [
    "mnb = MultinomialNB()\n",
    "logreg = LogisticRegression()"
   ]
  },
  {
   "cell_type": "markdown",
   "metadata": {
    "id": "Ga9c5TxFXOek"
   },
   "source": [
    "Insights:\n",
    "\n",
    "* Compare the performance of the Multinomial NB and Logistic Regression\n"
   ]
  },
  {
   "cell_type": "code",
   "execution_count": 26,
   "metadata": {
    "id": "IFknBFuVHguG"
   },
   "outputs": [],
   "source": [
    "countvect = CountVectorizer()"
   ]
  },
  {
   "cell_type": "code",
   "execution_count": 27,
   "metadata": {
    "colab": {
     "base_uri": "https://localhost:8080/"
    },
    "id": "S5Nq765gHgyP",
    "outputId": "af8e5ddb-be06-45b1-85e2-ba05f06aaae8"
   },
   "outputs": [
    {
     "name": "stdout",
     "output_type": "stream",
     "text": [
      "ok\n",
      "Performing grid search...\n",
      "pipeline: ['features', 'clf']\n",
      "parameters:\n",
      "{'clf__alpha': (0.25, 0.5, 0.75),\n",
      " 'features__pipe__vect__max_df': (0.25, 0.5, 0.75),\n",
      " 'features__pipe__vect__min_df': (1, 2),\n",
      " 'features__pipe__vect__ngram_range': ((1, 1), (1, 2))}\n",
      "Fitting 5 folds for each of 36 candidates, totalling 180 fits\n"
     ]
    },
    {
     "name": "stderr",
     "output_type": "stream",
     "text": [
      "[Parallel(n_jobs=-1)]: Using backend LokyBackend with 2 concurrent workers.\n",
      "[Parallel(n_jobs=-1)]: Done  46 tasks      | elapsed:   16.0s\n",
      "[Parallel(n_jobs=-1)]: Done 180 out of 180 | elapsed:   59.1s finished\n"
     ]
    },
    {
     "name": "stdout",
     "output_type": "stream",
     "text": [
      "done in 59.386s\n",
      "\n",
      "Best CV score: 0.776\n",
      "Best parameters set:\n",
      "\tclf__alpha: 0.75\n",
      "\tfeatures__pipe__vect__max_df: 0.5\n",
      "\tfeatures__pipe__vect__min_df: 2\n",
      "\tfeatures__pipe__vect__ngram_range: (1, 1)\n",
      "Test score with best_estimator_: 0.786\n",
      "\n",
      "\n",
      "Test score with best_estimator_: 0.832\n",
      "\n",
      "\n",
      "Classification Report Test Data\n",
      "              precision    recall  f1-score   support\n",
      "\n",
      "    negative       0.83      0.90      0.87       910\n",
      "     neutral       0.64      0.52      0.57       295\n",
      "    positive       0.74      0.69      0.71       259\n",
      "\n",
      "    accuracy                           0.79      1464\n",
      "   macro avg       0.74      0.70      0.72      1464\n",
      "weighted avg       0.78      0.79      0.78      1464\n",
      "\n",
      "Classification Report Train Data\n",
      "              precision    recall  f1-score   support\n",
      "\n",
      "    negative       0.87      0.92      0.89      8268\n",
      "     neutral       0.73      0.61      0.67      2804\n",
      "    positive       0.80      0.79      0.79      2104\n",
      "\n",
      "    accuracy                           0.83     13176\n",
      "   macro avg       0.80      0.77      0.78     13176\n",
      "weighted avg       0.83      0.83      0.83     13176\n",
      "\n"
     ]
    }
   ],
   "source": [
    "best_mnb_countvect = grid_vect(mnb, parameters_mnb, X_train, X_test, parameters_text=parameters_vect, vect=countvect)"
   ]
  },
  {
   "cell_type": "markdown",
   "metadata": {
    "id": "OBokXzgYQkAd"
   },
   "source": [
    "Insights:\n",
    "\n",
    "Countvectorizer convert the words to numbers by taking all words in all tweets, assigns an ID and counts the frequency of the word per tweet"
   ]
  },
  {
   "cell_type": "code",
   "execution_count": 28,
   "metadata": {
    "id": "zXI9MpW9IEL_"
   },
   "outputs": [],
   "source": [
    "tfidfvect = TfidfVectorizer()"
   ]
  },
  {
   "cell_type": "code",
   "execution_count": 29,
   "metadata": {
    "colab": {
     "base_uri": "https://localhost:8080/"
    },
    "id": "yb_Xdyy_IHgx",
    "outputId": "aa3c0df2-4d8a-4613-e006-93fb562563dd"
   },
   "outputs": [
    {
     "name": "stdout",
     "output_type": "stream",
     "text": [
      "ok\n",
      "Performing grid search...\n",
      "pipeline: ['features', 'clf']\n",
      "parameters:\n",
      "{'clf__alpha': (0.25, 0.5, 0.75),\n",
      " 'features__pipe__vect__max_df': (0.25, 0.5, 0.75),\n",
      " 'features__pipe__vect__min_df': (1, 2),\n",
      " 'features__pipe__vect__ngram_range': ((1, 1), (1, 2))}\n",
      "Fitting 5 folds for each of 36 candidates, totalling 180 fits\n"
     ]
    },
    {
     "name": "stderr",
     "output_type": "stream",
     "text": [
      "[Parallel(n_jobs=-1)]: Using backend LokyBackend with 2 concurrent workers.\n",
      "[Parallel(n_jobs=-1)]: Done  46 tasks      | elapsed:   15.1s\n",
      "[Parallel(n_jobs=-1)]: Done 180 out of 180 | elapsed:   59.7s finished\n"
     ]
    },
    {
     "name": "stdout",
     "output_type": "stream",
     "text": [
      "done in 60.309s\n",
      "\n",
      "Best CV score: 0.750\n",
      "Best parameters set:\n",
      "\tclf__alpha: 0.25\n",
      "\tfeatures__pipe__vect__max_df: 0.25\n",
      "\tfeatures__pipe__vect__min_df: 2\n",
      "\tfeatures__pipe__vect__ngram_range: (1, 2)\n",
      "Test score with best_estimator_: 0.765\n",
      "\n",
      "\n",
      "Test score with best_estimator_: 0.849\n",
      "\n",
      "\n",
      "Classification Report Test Data\n",
      "              precision    recall  f1-score   support\n",
      "\n",
      "    negative       0.76      0.97      0.85       910\n",
      "     neutral       0.71      0.35      0.46       295\n",
      "    positive       0.84      0.52      0.64       259\n",
      "\n",
      "    accuracy                           0.77      1464\n",
      "   macro avg       0.77      0.61      0.65      1464\n",
      "weighted avg       0.76      0.77      0.74      1464\n",
      "\n",
      "Classification Report Train Data\n",
      "              precision    recall  f1-score   support\n",
      "\n",
      "    negative       0.84      0.97      0.90      8268\n",
      "     neutral       0.87      0.60      0.71      2804\n",
      "    positive       0.88      0.69      0.78      2104\n",
      "\n",
      "    accuracy                           0.85     13176\n",
      "   macro avg       0.86      0.75      0.80     13176\n",
      "weighted avg       0.85      0.85      0.84     13176\n",
      "\n"
     ]
    }
   ],
   "source": [
    "best_mnb_tfidf = grid_vect(mnb, parameters_mnb, X_train, X_test, parameters_text=parameters_vect, vect=tfidfvect)"
   ]
  },
  {
   "cell_type": "markdown",
   "metadata": {
    "id": "aBVSCAUORQbN"
   },
   "source": [
    "Insights:\n",
    "\n",
    "Because Countvectorizer counts the frequency of the words, in some cases they can be removed. Therefore, the TF-IDF vectorizer can reduce the weight these words to help stablize the data."
   ]
  },
  {
   "cell_type": "code",
   "execution_count": 30,
   "metadata": {
    "colab": {
     "base_uri": "https://localhost:8080/"
    },
    "id": "3p3NVnC-ItMz",
    "outputId": "2d844eba-4ecd-469e-cfcf-0204f0dec5b9"
   },
   "outputs": [
    {
     "name": "stdout",
     "output_type": "stream",
     "text": [
      "ok\n",
      "Performing grid search...\n",
      "pipeline: ['features', 'clf']\n",
      "parameters:\n",
      "{'clf__C': (1.05, 1.1, 1.15, 1.2),\n",
      " 'clf__penalty': ('l1', 'l2'),\n",
      " 'features__pipe__vect__max_df': (0.25, 0.5, 0.75),\n",
      " 'features__pipe__vect__min_df': (1, 2),\n",
      " 'features__pipe__vect__ngram_range': ((1, 1), (1, 2))}\n",
      "Fitting 5 folds for each of 96 candidates, totalling 480 fits\n"
     ]
    },
    {
     "name": "stderr",
     "output_type": "stream",
     "text": [
      "[Parallel(n_jobs=-1)]: Using backend LokyBackend with 2 concurrent workers.\n",
      "[Parallel(n_jobs=-1)]: Done  46 tasks      | elapsed:   11.9s\n",
      "[Parallel(n_jobs=-1)]: Done 196 tasks      | elapsed:  2.6min\n",
      "[Parallel(n_jobs=-1)]: Done 446 tasks      | elapsed:  6.8min\n",
      "[Parallel(n_jobs=-1)]: Done 480 out of 480 | elapsed:  7.8min finished\n",
      "/usr/local/lib/python3.7/dist-packages/sklearn/linear_model/_logistic.py:940: ConvergenceWarning: lbfgs failed to converge (status=1):\n",
      "STOP: TOTAL NO. of ITERATIONS REACHED LIMIT.\n",
      "\n",
      "Increase the number of iterations (max_iter) or scale the data as shown in:\n",
      "    https://scikit-learn.org/stable/modules/preprocessing.html\n",
      "Please also refer to the documentation for alternative solver options:\n",
      "    https://scikit-learn.org/stable/modules/linear_model.html#logistic-regression\n",
      "  extra_warning_msg=_LOGISTIC_SOLVER_CONVERGENCE_MSG)\n"
     ]
    },
    {
     "name": "stdout",
     "output_type": "stream",
     "text": [
      "done in 468.687s\n",
      "\n",
      "Best CV score: 0.759\n",
      "Best parameters set:\n",
      "\tclf__C: 1.2\n",
      "\tclf__penalty: 'l2'\n",
      "\tfeatures__pipe__vect__max_df: 0.5\n",
      "\tfeatures__pipe__vect__min_df: 2\n",
      "\tfeatures__pipe__vect__ngram_range: (1, 2)\n",
      "Test score with best_estimator_: 0.768\n",
      "\n",
      "\n",
      "Test score with best_estimator_: 0.778\n",
      "\n",
      "\n",
      "Classification Report Test Data\n",
      "              precision    recall  f1-score   support\n",
      "\n",
      "    negative       0.81      0.92      0.86       910\n",
      "     neutral       0.57      0.43      0.49       295\n",
      "    positive       0.78      0.61      0.68       259\n",
      "\n",
      "    accuracy                           0.77      1464\n",
      "   macro avg       0.72      0.65      0.68      1464\n",
      "weighted avg       0.76      0.77      0.76      1464\n",
      "\n",
      "Classification Report Train Data\n",
      "              precision    recall  f1-score   support\n",
      "\n",
      "    negative       0.81      0.93      0.87      8268\n",
      "     neutral       0.66      0.50      0.57      2804\n",
      "    positive       0.74      0.55      0.63      2104\n",
      "\n",
      "    accuracy                           0.78     13176\n",
      "   macro avg       0.74      0.66      0.69     13176\n",
      "weighted avg       0.77      0.78      0.77     13176\n",
      "\n"
     ]
    }
   ],
   "source": [
    "best_logreg_tfidf = grid_vect(logreg, parameters_logreg, X_train, X_test, parameters_text=parameters_vect, vect=tfidfvect)"
   ]
  },
  {
   "cell_type": "markdown",
   "metadata": {
    "id": "6qU8YlPWdauo"
   },
   "source": [
    "Insights:\n",
    "\n",
    "The Logistic Regression helps to address the negative discriminatory information by using its vector value based on the dimensions of each word multidimensional space remaining in the vocabulary."
   ]
  },
  {
   "cell_type": "code",
   "execution_count": 31,
   "metadata": {
    "colab": {
     "base_uri": "https://localhost:8080/",
     "height": 254
    },
    "id": "0gmU4X_lpAmI",
    "outputId": "6225572f-0acc-4317-8dbe-9360b9e1542d"
   },
   "outputs": [
    {
     "name": "stdout",
     "output_type": "stream",
     "text": [
      "[nltk_data] Downloading package punkt to /root/nltk_data...\n",
      "[nltk_data]   Unzipping tokenizers/punkt.zip.\n"
     ]
    },
    {
     "data": {
      "text/html": [
       "<div>\n",
       "<style scoped>\n",
       "    .dataframe tbody tr th:only-of-type {\n",
       "        vertical-align: middle;\n",
       "    }\n",
       "\n",
       "    .dataframe tbody tr th {\n",
       "        vertical-align: top;\n",
       "    }\n",
       "\n",
       "    .dataframe thead th {\n",
       "        text-align: right;\n",
       "    }\n",
       "</style>\n",
       "<table border=\"1\" class=\"dataframe\">\n",
       "  <thead>\n",
       "    <tr style=\"text-align: right;\">\n",
       "      <th></th>\n",
       "      <th>count_words</th>\n",
       "      <th>count_mentions</th>\n",
       "      <th>count_hashtags</th>\n",
       "      <th>count_capital_words</th>\n",
       "      <th>count_excl_quest_marks</th>\n",
       "      <th>count_urls</th>\n",
       "      <th>count_emojis</th>\n",
       "      <th>clean_text</th>\n",
       "      <th>clean_text_wordlist</th>\n",
       "    </tr>\n",
       "  </thead>\n",
       "  <tbody>\n",
       "    <tr>\n",
       "      <th>9709</th>\n",
       "      <td>25</td>\n",
       "      <td>1</td>\n",
       "      <td>0</td>\n",
       "      <td>0</td>\n",
       "      <td>1</td>\n",
       "      <td>0</td>\n",
       "      <td>0</td>\n",
       "      <td>denver boston flight boston denver flight plane visibl snack crumb seat upon board</td>\n",
       "      <td>[denver, boston, flight, boston, denver, flight, plane, visibl, snack, crumb, seat, upon, board]</td>\n",
       "    </tr>\n",
       "    <tr>\n",
       "      <th>12212</th>\n",
       "      <td>14</td>\n",
       "      <td>1</td>\n",
       "      <td>0</td>\n",
       "      <td>0</td>\n",
       "      <td>0</td>\n",
       "      <td>0</td>\n",
       "      <td>0</td>\n",
       "      <td>weekend deal compani would say otherwis</td>\n",
       "      <td>[weekend, deal, compani, would, say, otherwis]</td>\n",
       "    </tr>\n",
       "    <tr>\n",
       "      <th>11438</th>\n",
       "      <td>21</td>\n",
       "      <td>1</td>\n",
       "      <td>0</td>\n",
       "      <td>0</td>\n",
       "      <td>2</td>\n",
       "      <td>0</td>\n",
       "      <td>0</td>\n",
       "      <td>thank great servic newark seat fix seat daughter fab land fort myer</td>\n",
       "      <td>[thank, great, servic, newark, seat, fix, seat, daughter, fab, land, fort, myer]</td>\n",
       "    </tr>\n",
       "    <tr>\n",
       "      <th>13844</th>\n",
       "      <td>17</td>\n",
       "      <td>1</td>\n",
       "      <td>0</td>\n",
       "      <td>0</td>\n",
       "      <td>1</td>\n",
       "      <td>0</td>\n",
       "      <td>0</td>\n",
       "      <td>know suicid second lead caus death among teen</td>\n",
       "      <td>[know, suicid, second, lead, caus, death, among, teen]</td>\n",
       "    </tr>\n",
       "    <tr>\n",
       "      <th>8781</th>\n",
       "      <td>16</td>\n",
       "      <td>1</td>\n",
       "      <td>0</td>\n",
       "      <td>0</td>\n",
       "      <td>0</td>\n",
       "      <td>0</td>\n",
       "      <td>0</td>\n",
       "      <td>worst airlin lost luggag delay flight unaccomid</td>\n",
       "      <td>[worst, airlin, lost, luggag, delay, flight, unaccomid]</td>\n",
       "    </tr>\n",
       "  </tbody>\n",
       "</table>\n",
       "</div>"
      ],
      "text/plain": [
       "       count_words  ...                                                                               clean_text_wordlist\n",
       "9709   25           ...  [denver, boston, flight, boston, denver, flight, plane, visibl, snack, crumb, seat, upon, board]\n",
       "12212  14           ...  [weekend, deal, compani, would, say, otherwis]                                                  \n",
       "11438  21           ...  [thank, great, servic, newark, seat, fix, seat, daughter, fab, land, fort, myer]                \n",
       "13844  17           ...  [know, suicid, second, lead, caus, death, among, teen]                                          \n",
       "8781   16           ...  [worst, airlin, lost, luggag, delay, flight, unaccomid]                                         \n",
       "\n",
       "[5 rows x 9 columns]"
      ]
     },
     "execution_count": 31,
     "metadata": {
      "tags": []
     },
     "output_type": "execute_result"
    }
   ],
   "source": [
    "import nltk\n",
    "nltk.download('punkt')\n",
    "\n",
    "SIZE = 50\n",
    "\n",
    "X_train['clean_text_wordlist'] = X_train.clean_text.apply(lambda x : word_tokenize(x))\n",
    "X_test['clean_text_wordlist'] = X_test.clean_text.apply(lambda x : word_tokenize(x))\n",
    "X_train['clean_text_wordlist'].head()\n",
    "model = gensim.models.Word2Vec(X_train.clean_text_wordlist\n",
    "                 , min_count=1\n",
    "                 , size=SIZE\n",
    "                 , window=5\n",
    "                 , workers=4)\n",
    "\n",
    "X_train.head()"
   ]
  },
  {
   "cell_type": "code",
   "execution_count": 32,
   "metadata": {
    "colab": {
     "base_uri": "https://localhost:8080/"
    },
    "id": "vnpHMy3TqTXn",
    "outputId": "97e6f04b-9a81-4acc-a802-4b2d782a61f5"
   },
   "outputs": [
    {
     "name": "stderr",
     "output_type": "stream",
     "text": [
      "/usr/local/lib/python3.7/dist-packages/ipykernel_launcher.py:2: DeprecationWarning: Call to deprecated `most_similar` (Method will be removed in 4.0.0, use self.wv.most_similar() instead).\n",
      "  \n"
     ]
    },
    {
     "data": {
      "text/plain": [
       "[('rebook', 0.9875620603561401),\n",
       " ('tomorrow', 0.9836346507072449),\n",
       " ('flightlat', 0.9781566262245178)]"
      ]
     },
     "execution_count": 32,
     "metadata": {
      "tags": []
     },
     "output_type": "execute_result"
    }
   ],
   "source": [
    "#The word 'flight' appeared 4879 times\n",
    "model.most_similar('flight', topn=3)"
   ]
  },
  {
   "cell_type": "code",
   "execution_count": 33,
   "metadata": {
    "id": "YP0mYonCq9wZ"
   },
   "outputs": [],
   "source": [
    "def compute_avg_w2v_vector(w2v_dict, tweet):\n",
    "    list_of_word_vectors = [w2v_dict[w] for w in tweet if w in w2v_dict.vocab.keys()]\n",
    "    \n",
    "    if len(list_of_word_vectors) == 0:\n",
    "        result = [0.0]*SIZE\n",
    "    else:\n",
    "        result = np.sum(list_of_word_vectors, axis=0) / len(list_of_word_vectors)\n",
    "        \n",
    "    return result"
   ]
  },
  {
   "cell_type": "code",
   "execution_count": 34,
   "metadata": {
    "colab": {
     "base_uri": "https://localhost:8080/"
    },
    "id": "Rn2_f2FNrxJQ",
    "outputId": "3dc95d70-c985-4d2a-c715-b11b6d516bdd"
   },
   "outputs": [
    {
     "name": "stdout",
     "output_type": "stream",
     "text": [
      "Int64Index([ 9709, 12212, 11438, 13844,  8781, 12474, 13046,  8006, 12949,\n",
      "            13903,\n",
      "            ...\n",
      "             6595,  5795, 11898,  4118, 12725,   988, 14587,  9036,  4459,\n",
      "             1935],\n",
      "           dtype='int64', length=13176)\n"
     ]
    }
   ],
   "source": [
    "X_train_w2v = X_train['clean_text_wordlist'].apply(lambda x: compute_avg_w2v_vector(model.wv, x))\n",
    "\n",
    "X_test_w2v = X_test['clean_text_wordlist'].apply(lambda x: compute_avg_w2v_vector(model.wv, x))\n",
    "print(X_train.index)"
   ]
  },
  {
   "cell_type": "code",
   "execution_count": 35,
   "metadata": {
    "colab": {
     "base_uri": "https://localhost:8080/",
     "height": 222
    },
    "id": "wJ6lwGPZr2ZR",
    "outputId": "3c9382a4-710f-4ed0-eed4-9078b3478cd2"
   },
   "outputs": [
    {
     "data": {
      "text/html": [
       "<div>\n",
       "<style scoped>\n",
       "    .dataframe tbody tr th:only-of-type {\n",
       "        vertical-align: middle;\n",
       "    }\n",
       "\n",
       "    .dataframe tbody tr th {\n",
       "        vertical-align: top;\n",
       "    }\n",
       "\n",
       "    .dataframe thead th {\n",
       "        text-align: right;\n",
       "    }\n",
       "</style>\n",
       "<table border=\"1\" class=\"dataframe\">\n",
       "  <thead>\n",
       "    <tr style=\"text-align: right;\">\n",
       "      <th></th>\n",
       "      <th>0</th>\n",
       "      <th>1</th>\n",
       "      <th>2</th>\n",
       "      <th>3</th>\n",
       "      <th>4</th>\n",
       "      <th>5</th>\n",
       "      <th>6</th>\n",
       "      <th>7</th>\n",
       "      <th>8</th>\n",
       "      <th>9</th>\n",
       "      <th>10</th>\n",
       "      <th>11</th>\n",
       "      <th>12</th>\n",
       "      <th>13</th>\n",
       "      <th>14</th>\n",
       "      <th>15</th>\n",
       "      <th>16</th>\n",
       "      <th>17</th>\n",
       "      <th>18</th>\n",
       "      <th>19</th>\n",
       "      <th>20</th>\n",
       "      <th>21</th>\n",
       "      <th>22</th>\n",
       "      <th>23</th>\n",
       "      <th>24</th>\n",
       "      <th>25</th>\n",
       "      <th>26</th>\n",
       "      <th>27</th>\n",
       "      <th>28</th>\n",
       "      <th>29</th>\n",
       "      <th>30</th>\n",
       "      <th>31</th>\n",
       "      <th>32</th>\n",
       "      <th>33</th>\n",
       "      <th>34</th>\n",
       "      <th>35</th>\n",
       "      <th>36</th>\n",
       "      <th>37</th>\n",
       "      <th>38</th>\n",
       "      <th>39</th>\n",
       "      <th>40</th>\n",
       "      <th>41</th>\n",
       "      <th>42</th>\n",
       "      <th>43</th>\n",
       "      <th>44</th>\n",
       "      <th>45</th>\n",
       "      <th>46</th>\n",
       "      <th>47</th>\n",
       "      <th>48</th>\n",
       "      <th>49</th>\n",
       "      <th>count_words</th>\n",
       "      <th>count_mentions</th>\n",
       "      <th>count_hashtags</th>\n",
       "      <th>count_capital_words</th>\n",
       "      <th>count_excl_quest_marks</th>\n",
       "      <th>count_urls</th>\n",
       "      <th>count_emojis</th>\n",
       "    </tr>\n",
       "  </thead>\n",
       "  <tbody>\n",
       "    <tr>\n",
       "      <th>9709</th>\n",
       "      <td>-0.192104</td>\n",
       "      <td>-0.237120</td>\n",
       "      <td>0.356964</td>\n",
       "      <td>0.206748</td>\n",
       "      <td>0.077760</td>\n",
       "      <td>-0.072677</td>\n",
       "      <td>0.498313</td>\n",
       "      <td>0.070486</td>\n",
       "      <td>0.096926</td>\n",
       "      <td>-0.379485</td>\n",
       "      <td>0.220833</td>\n",
       "      <td>0.378917</td>\n",
       "      <td>-0.669372</td>\n",
       "      <td>-0.263801</td>\n",
       "      <td>-0.822721</td>\n",
       "      <td>0.963510</td>\n",
       "      <td>-0.442809</td>\n",
       "      <td>-0.603595</td>\n",
       "      <td>0.641649</td>\n",
       "      <td>0.517267</td>\n",
       "      <td>0.835352</td>\n",
       "      <td>-0.026135</td>\n",
       "      <td>-0.372312</td>\n",
       "      <td>-0.554324</td>\n",
       "      <td>-0.412056</td>\n",
       "      <td>-0.188631</td>\n",
       "      <td>-0.167607</td>\n",
       "      <td>0.250054</td>\n",
       "      <td>0.683779</td>\n",
       "      <td>0.430530</td>\n",
       "      <td>0.261533</td>\n",
       "      <td>0.001203</td>\n",
       "      <td>0.603135</td>\n",
       "      <td>-0.177750</td>\n",
       "      <td>0.273444</td>\n",
       "      <td>-0.311954</td>\n",
       "      <td>-0.400429</td>\n",
       "      <td>-0.280196</td>\n",
       "      <td>0.207920</td>\n",
       "      <td>0.481083</td>\n",
       "      <td>0.538138</td>\n",
       "      <td>0.236872</td>\n",
       "      <td>0.211694</td>\n",
       "      <td>0.581686</td>\n",
       "      <td>0.453546</td>\n",
       "      <td>-0.093674</td>\n",
       "      <td>0.453604</td>\n",
       "      <td>-0.490846</td>\n",
       "      <td>0.410752</td>\n",
       "      <td>-0.910953</td>\n",
       "      <td>25</td>\n",
       "      <td>1</td>\n",
       "      <td>0</td>\n",
       "      <td>0</td>\n",
       "      <td>1</td>\n",
       "      <td>0</td>\n",
       "      <td>0</td>\n",
       "    </tr>\n",
       "    <tr>\n",
       "      <th>12212</th>\n",
       "      <td>-0.142151</td>\n",
       "      <td>-0.334210</td>\n",
       "      <td>0.291871</td>\n",
       "      <td>0.121945</td>\n",
       "      <td>0.043046</td>\n",
       "      <td>-0.281530</td>\n",
       "      <td>0.503765</td>\n",
       "      <td>-0.052534</td>\n",
       "      <td>-0.052605</td>\n",
       "      <td>-0.399192</td>\n",
       "      <td>0.105826</td>\n",
       "      <td>0.264008</td>\n",
       "      <td>-0.609948</td>\n",
       "      <td>-0.273430</td>\n",
       "      <td>-1.020273</td>\n",
       "      <td>0.837823</td>\n",
       "      <td>-0.683896</td>\n",
       "      <td>-0.691424</td>\n",
       "      <td>0.649091</td>\n",
       "      <td>0.416124</td>\n",
       "      <td>0.746799</td>\n",
       "      <td>0.085671</td>\n",
       "      <td>-0.423440</td>\n",
       "      <td>-0.624984</td>\n",
       "      <td>-0.496768</td>\n",
       "      <td>-0.070591</td>\n",
       "      <td>0.001819</td>\n",
       "      <td>0.115550</td>\n",
       "      <td>0.621509</td>\n",
       "      <td>0.558209</td>\n",
       "      <td>0.297366</td>\n",
       "      <td>0.070039</td>\n",
       "      <td>0.691652</td>\n",
       "      <td>-0.178084</td>\n",
       "      <td>0.314652</td>\n",
       "      <td>-0.211731</td>\n",
       "      <td>-0.426381</td>\n",
       "      <td>-0.408595</td>\n",
       "      <td>0.237136</td>\n",
       "      <td>0.513953</td>\n",
       "      <td>0.404445</td>\n",
       "      <td>0.250094</td>\n",
       "      <td>0.168732</td>\n",
       "      <td>0.383884</td>\n",
       "      <td>0.488201</td>\n",
       "      <td>-0.135086</td>\n",
       "      <td>0.418262</td>\n",
       "      <td>-0.402831</td>\n",
       "      <td>0.442684</td>\n",
       "      <td>-0.973091</td>\n",
       "      <td>14</td>\n",
       "      <td>1</td>\n",
       "      <td>0</td>\n",
       "      <td>0</td>\n",
       "      <td>0</td>\n",
       "      <td>0</td>\n",
       "      <td>0</td>\n",
       "    </tr>\n",
       "    <tr>\n",
       "      <th>11438</th>\n",
       "      <td>-0.176751</td>\n",
       "      <td>-0.375638</td>\n",
       "      <td>0.289869</td>\n",
       "      <td>0.116746</td>\n",
       "      <td>0.019973</td>\n",
       "      <td>-0.307780</td>\n",
       "      <td>0.513254</td>\n",
       "      <td>-0.069755</td>\n",
       "      <td>-0.053022</td>\n",
       "      <td>-0.380909</td>\n",
       "      <td>0.089201</td>\n",
       "      <td>0.255439</td>\n",
       "      <td>-0.616274</td>\n",
       "      <td>-0.303198</td>\n",
       "      <td>-1.028593</td>\n",
       "      <td>0.853726</td>\n",
       "      <td>-0.699460</td>\n",
       "      <td>-0.742522</td>\n",
       "      <td>0.682304</td>\n",
       "      <td>0.416635</td>\n",
       "      <td>0.775160</td>\n",
       "      <td>0.090596</td>\n",
       "      <td>-0.413820</td>\n",
       "      <td>-0.644843</td>\n",
       "      <td>-0.522879</td>\n",
       "      <td>-0.064515</td>\n",
       "      <td>-0.000580</td>\n",
       "      <td>0.124733</td>\n",
       "      <td>0.639468</td>\n",
       "      <td>0.577251</td>\n",
       "      <td>0.296975</td>\n",
       "      <td>0.085174</td>\n",
       "      <td>0.733322</td>\n",
       "      <td>-0.217333</td>\n",
       "      <td>0.335107</td>\n",
       "      <td>-0.224795</td>\n",
       "      <td>-0.431197</td>\n",
       "      <td>-0.404123</td>\n",
       "      <td>0.245691</td>\n",
       "      <td>0.522720</td>\n",
       "      <td>0.404934</td>\n",
       "      <td>0.245714</td>\n",
       "      <td>0.182095</td>\n",
       "      <td>0.403112</td>\n",
       "      <td>0.496066</td>\n",
       "      <td>-0.141591</td>\n",
       "      <td>0.422580</td>\n",
       "      <td>-0.433115</td>\n",
       "      <td>0.432399</td>\n",
       "      <td>-0.991435</td>\n",
       "      <td>21</td>\n",
       "      <td>1</td>\n",
       "      <td>0</td>\n",
       "      <td>0</td>\n",
       "      <td>2</td>\n",
       "      <td>0</td>\n",
       "      <td>0</td>\n",
       "    </tr>\n",
       "    <tr>\n",
       "      <th>13844</th>\n",
       "      <td>-0.090340</td>\n",
       "      <td>-0.188221</td>\n",
       "      <td>0.175456</td>\n",
       "      <td>0.076008</td>\n",
       "      <td>0.024040</td>\n",
       "      <td>-0.154297</td>\n",
       "      <td>0.291241</td>\n",
       "      <td>-0.020765</td>\n",
       "      <td>-0.024759</td>\n",
       "      <td>-0.230651</td>\n",
       "      <td>0.068402</td>\n",
       "      <td>0.160825</td>\n",
       "      <td>-0.354666</td>\n",
       "      <td>-0.157207</td>\n",
       "      <td>-0.572781</td>\n",
       "      <td>0.495079</td>\n",
       "      <td>-0.375546</td>\n",
       "      <td>-0.391524</td>\n",
       "      <td>0.374722</td>\n",
       "      <td>0.246360</td>\n",
       "      <td>0.433847</td>\n",
       "      <td>0.037928</td>\n",
       "      <td>-0.240189</td>\n",
       "      <td>-0.348735</td>\n",
       "      <td>-0.278508</td>\n",
       "      <td>-0.050830</td>\n",
       "      <td>-0.009281</td>\n",
       "      <td>0.078683</td>\n",
       "      <td>0.366538</td>\n",
       "      <td>0.309933</td>\n",
       "      <td>0.171512</td>\n",
       "      <td>0.031404</td>\n",
       "      <td>0.395783</td>\n",
       "      <td>-0.098049</td>\n",
       "      <td>0.178849</td>\n",
       "      <td>-0.128910</td>\n",
       "      <td>-0.247618</td>\n",
       "      <td>-0.224521</td>\n",
       "      <td>0.137921</td>\n",
       "      <td>0.301816</td>\n",
       "      <td>0.244585</td>\n",
       "      <td>0.135742</td>\n",
       "      <td>0.095916</td>\n",
       "      <td>0.235564</td>\n",
       "      <td>0.275881</td>\n",
       "      <td>-0.079418</td>\n",
       "      <td>0.244878</td>\n",
       "      <td>-0.241941</td>\n",
       "      <td>0.254555</td>\n",
       "      <td>-0.557434</td>\n",
       "      <td>17</td>\n",
       "      <td>1</td>\n",
       "      <td>0</td>\n",
       "      <td>0</td>\n",
       "      <td>1</td>\n",
       "      <td>0</td>\n",
       "      <td>0</td>\n",
       "    </tr>\n",
       "    <tr>\n",
       "      <th>8781</th>\n",
       "      <td>-0.294146</td>\n",
       "      <td>-0.392771</td>\n",
       "      <td>0.430440</td>\n",
       "      <td>0.245985</td>\n",
       "      <td>0.012439</td>\n",
       "      <td>-0.165707</td>\n",
       "      <td>0.638911</td>\n",
       "      <td>0.019850</td>\n",
       "      <td>0.084331</td>\n",
       "      <td>-0.437776</td>\n",
       "      <td>0.256822</td>\n",
       "      <td>0.431667</td>\n",
       "      <td>-0.823977</td>\n",
       "      <td>-0.377923</td>\n",
       "      <td>-1.079899</td>\n",
       "      <td>1.199633</td>\n",
       "      <td>-0.620300</td>\n",
       "      <td>-0.871597</td>\n",
       "      <td>0.870247</td>\n",
       "      <td>0.629399</td>\n",
       "      <td>1.074412</td>\n",
       "      <td>0.038334</td>\n",
       "      <td>-0.482637</td>\n",
       "      <td>-0.761413</td>\n",
       "      <td>-0.602363</td>\n",
       "      <td>-0.217575</td>\n",
       "      <td>-0.178198</td>\n",
       "      <td>0.289945</td>\n",
       "      <td>0.854456</td>\n",
       "      <td>0.606846</td>\n",
       "      <td>0.321615</td>\n",
       "      <td>0.054590</td>\n",
       "      <td>0.829818</td>\n",
       "      <td>-0.282679</td>\n",
       "      <td>0.385917</td>\n",
       "      <td>-0.397205</td>\n",
       "      <td>-0.526839</td>\n",
       "      <td>-0.401294</td>\n",
       "      <td>0.273019</td>\n",
       "      <td>0.619557</td>\n",
       "      <td>0.656217</td>\n",
       "      <td>0.308639</td>\n",
       "      <td>0.301052</td>\n",
       "      <td>0.705344</td>\n",
       "      <td>0.588784</td>\n",
       "      <td>-0.133828</td>\n",
       "      <td>0.605536</td>\n",
       "      <td>-0.637975</td>\n",
       "      <td>0.493747</td>\n",
       "      <td>-1.183336</td>\n",
       "      <td>16</td>\n",
       "      <td>1</td>\n",
       "      <td>0</td>\n",
       "      <td>0</td>\n",
       "      <td>0</td>\n",
       "      <td>0</td>\n",
       "      <td>0</td>\n",
       "    </tr>\n",
       "  </tbody>\n",
       "</table>\n",
       "</div>"
      ],
      "text/plain": [
       "              0         1  ...  count_urls  count_emojis\n",
       "9709  -0.192104 -0.237120  ...  0           0           \n",
       "12212 -0.142151 -0.334210  ...  0           0           \n",
       "11438 -0.176751 -0.375638  ...  0           0           \n",
       "13844 -0.090340 -0.188221  ...  0           0           \n",
       "8781  -0.294146 -0.392771  ...  0           0           \n",
       "\n",
       "[5 rows x 57 columns]"
      ]
     },
     "execution_count": 35,
     "metadata": {
      "tags": []
     },
     "output_type": "execute_result"
    }
   ],
   "source": [
    "X_train_w2v = pd.DataFrame(X_train_w2v.values.tolist(), index= X_train.index)\n",
    "X_test_w2v = pd.DataFrame(X_test_w2v.values.tolist(), index= X_test.index)\n",
    "\n",
    "# Concatenate with the TextCounts variables\n",
    "X_train_w2v = pd.concat([X_train_w2v, X_train.drop(['clean_text', 'clean_text_wordlist'], axis=1)], axis=1)\n",
    "X_test_w2v = pd.concat([X_test_w2v, X_test.drop(['clean_text', 'clean_text_wordlist'], axis=1)], axis=1)\n",
    "X_train_w2v.head()"
   ]
  },
  {
   "cell_type": "code",
   "execution_count": 36,
   "metadata": {
    "colab": {
     "base_uri": "https://localhost:8080/"
    },
    "id": "hbZ8p-TxsBZd",
    "outputId": "882a670f-8235-4615-bbfb-0e166dc085d9"
   },
   "outputs": [
    {
     "name": "stdout",
     "output_type": "stream",
     "text": [
      "not good\n",
      "Performing grid search...\n",
      "pipeline: ['features', 'clf']\n",
      "parameters:\n",
      "{'clf__C': (1.05, 1.1, 1.15, 1.2), 'clf__penalty': ('l1', 'l2')}\n",
      "Fitting 5 folds for each of 8 candidates, totalling 40 fits\n"
     ]
    },
    {
     "name": "stderr",
     "output_type": "stream",
     "text": [
      "[Parallel(n_jobs=-1)]: Using backend LokyBackend with 2 concurrent workers.\n",
      "[Parallel(n_jobs=-1)]: Done  40 out of  40 | elapsed:   14.1s finished\n",
      "/usr/local/lib/python3.7/dist-packages/sklearn/linear_model/_logistic.py:940: ConvergenceWarning: lbfgs failed to converge (status=1):\n",
      "STOP: TOTAL NO. of ITERATIONS REACHED LIMIT.\n",
      "\n",
      "Increase the number of iterations (max_iter) or scale the data as shown in:\n",
      "    https://scikit-learn.org/stable/modules/preprocessing.html\n",
      "Please also refer to the documentation for alternative solver options:\n",
      "    https://scikit-learn.org/stable/modules/linear_model.html#logistic-regression\n",
      "  extra_warning_msg=_LOGISTIC_SOLVER_CONVERGENCE_MSG)\n"
     ]
    },
    {
     "name": "stdout",
     "output_type": "stream",
     "text": [
      "done in 15.782s\n",
      "\n",
      "Best CV score: 0.685\n",
      "Best parameters set:\n",
      "\tclf__C: 1.1\n",
      "\tclf__penalty: 'l2'\n",
      "Test score with best_estimator_: 0.680\n",
      "\n",
      "\n",
      "Test score with best_estimator_: 0.683\n",
      "\n",
      "\n",
      "Classification Report Test Data\n",
      "              precision    recall  f1-score   support\n",
      "\n",
      "    negative       0.72      0.93      0.81       910\n",
      "     neutral       0.45      0.23      0.30       295\n",
      "    positive       0.63      0.31      0.41       259\n",
      "\n",
      "    accuracy                           0.68      1464\n",
      "   macro avg       0.60      0.49      0.51      1464\n",
      "weighted avg       0.65      0.68      0.64      1464\n",
      "\n",
      "Classification Report Train Data\n",
      "              precision    recall  f1-score   support\n",
      "\n",
      "    negative       0.72      0.92      0.81      8268\n",
      "     neutral       0.51      0.30      0.38      2804\n",
      "    positive       0.56      0.26      0.36      2104\n",
      "\n",
      "    accuracy                           0.68     13176\n",
      "   macro avg       0.60      0.50      0.52     13176\n",
      "weighted avg       0.65      0.68      0.65     13176\n",
      "\n"
     ]
    }
   ],
   "source": [
    "best_logreg_w2v = grid_vect(logreg, parameters_logreg, X_train_w2v, X_test_w2v, is_w2v=True)"
   ]
  },
  {
   "cell_type": "code",
   "execution_count": 37,
   "metadata": {
    "colab": {
     "base_uri": "https://localhost:8080/"
    },
    "id": "5AOTOSAKsR21",
    "outputId": "ffe28848-e59f-4937-aaa5-9eaa314c3ad5"
   },
   "outputs": [
    {
     "name": "stderr",
     "output_type": "stream",
     "text": [
      "/usr/local/lib/python3.7/dist-packages/sklearn/linear_model/_logistic.py:940: ConvergenceWarning: lbfgs failed to converge (status=1):\n",
      "STOP: TOTAL NO. of ITERATIONS REACHED LIMIT.\n",
      "\n",
      "Increase the number of iterations (max_iter) or scale the data as shown in:\n",
      "    https://scikit-learn.org/stable/modules/preprocessing.html\n",
      "Please also refer to the documentation for alternative solver options:\n",
      "    https://scikit-learn.org/stable/modules/linear_model.html#logistic-regression\n",
      "  extra_warning_msg=_LOGISTIC_SOLVER_CONVERGENCE_MSG)\n"
     ]
    }
   ],
   "source": [
    "textcountscols = ['count_capital_words','count_emojis','count_excl_quest_marks','count_hashtags'\n",
    "                      ,'count_mentions','count_urls','count_words']\n",
    "    \n",
    "features = FeatureUnion([('textcounts', ColumnExtractor(cols=textcountscols))\n",
    "                         , ('pipe', Pipeline([('cleantext', ColumnExtractor(cols='clean_text'))\n",
    "                                              , ('vect', CountVectorizer(max_df=0.5, min_df=1, ngram_range=(1,2)))]))]\n",
    "                       , n_jobs=-1)\n",
    "\n",
    "pipeline = Pipeline([\n",
    "    ('features', features)\n",
    "    , ('clf', LogisticRegression(C=1.0, penalty='l2'))\n",
    "])\n",
    "\n",
    "best_model = pipeline.fit(df_model.drop('airline_sentiment', axis=1), df_model.airline_sentiment)"
   ]
  },
  {
   "cell_type": "markdown",
   "metadata": {
    "id": "szMNskaEXUOG"
   },
   "source": [
    "**Sentiment Classification**"
   ]
  },
  {
   "cell_type": "code",
   "execution_count": 38,
   "metadata": {
    "colab": {
     "base_uri": "https://localhost:8080/"
    },
    "id": "sZu0HNLwsyvZ",
    "outputId": "4d095379-2389-46f8-f174-3c19923f56aa"
   },
   "outputs": [
    {
     "data": {
      "text/plain": [
       "['positive', 'positive', 'positive']"
      ]
     },
     "execution_count": 38,
     "metadata": {
      "tags": []
     },
     "output_type": "execute_result"
    }
   ],
   "source": [
    "new_positive_tweets = pd.Series([\"@VirginAmerica it was amazing, and arrived an hour early. You're too good to me.\"\n",
    "                      ,\"@SouthwestAir Love, love, love this. Southwest Rocks!! Always!! https://t.co/q8VSfFRd1u\"\n",
    "                      ,\"@united Thanks to Karen Salisbury at IAH for amazing customer service!  Found my daughter's bag lost on UA1516.  Made her day!\"])\n",
    "\n",
    "df_counts_pos = tc.transform(new_positive_tweets)\n",
    "df_clean_pos = ct.transform(new_positive_tweets)\n",
    "df_model_pos = df_counts_pos\n",
    "df_model_pos['clean_text'] = df_clean_pos\n",
    "\n",
    "best_model.predict(df_model_pos).tolist()"
   ]
  },
  {
   "cell_type": "code",
   "execution_count": 39,
   "metadata": {
    "colab": {
     "base_uri": "https://localhost:8080/"
    },
    "id": "xOmdFacks8U4",
    "outputId": "d609d248-2d92-42e3-8bb3-3e67924036e0"
   },
   "outputs": [
    {
     "data": {
      "text/plain": [
       "['negative', 'negative', 'negative']"
      ]
     },
     "execution_count": 39,
     "metadata": {
      "tags": []
     },
     "output_type": "execute_result"
    }
   ],
   "source": [
    "new_negative_tweets = pd.Series([\"@united A measly $50 e-certificate is not how you appreciate loyal customers after they wait 3hrs on the tarmac during UA1116. #unacceptable\"\n",
    "                      ,\"@VirginAmerica lost my luggage 4 days ago on flight VX 112 from LAX to IAD &amp; I'm calling every day, no response.Please give me back my stuff\"\n",
    "                      ,\"@USAirways have been waiting in an airplane for a total of 3 hours to take off between 2 flights today...this usually doesn't happen...\"])\n",
    "\n",
    "df_counts_neg = tc.transform(new_negative_tweets)\n",
    "df_clean_neg = ct.transform(new_negative_tweets)\n",
    "df_model_neg = df_counts_neg\n",
    "df_model_neg['clean_text'] = df_clean_neg\n",
    "\n",
    "best_model.predict(df_model_neg).tolist()"
   ]
  },
  {
   "cell_type": "code",
   "execution_count": 40,
   "metadata": {
    "colab": {
     "base_uri": "https://localhost:8080/",
     "height": 414
    },
    "id": "e7NB1kKUtC-d",
    "outputId": "575a49b0-d73f-408e-b5c9-72d87ab6d640"
   },
   "outputs": [
    {
     "data": {
      "text/html": [
       "<div>\n",
       "<style scoped>\n",
       "    .dataframe tbody tr th:only-of-type {\n",
       "        vertical-align: middle;\n",
       "    }\n",
       "\n",
       "    .dataframe tbody tr th {\n",
       "        vertical-align: top;\n",
       "    }\n",
       "\n",
       "    .dataframe thead th {\n",
       "        text-align: right;\n",
       "    }\n",
       "</style>\n",
       "<table border=\"1\" class=\"dataframe\">\n",
       "  <thead>\n",
       "    <tr style=\"text-align: right;\">\n",
       "      <th></th>\n",
       "      <th>count_words</th>\n",
       "      <th>count_mentions</th>\n",
       "      <th>count_hashtags</th>\n",
       "      <th>count_capital_words</th>\n",
       "      <th>count_excl_quest_marks</th>\n",
       "      <th>count_urls</th>\n",
       "      <th>count_emojis</th>\n",
       "      <th>clean_text</th>\n",
       "      <th>clean_text_wordlist</th>\n",
       "    </tr>\n",
       "  </thead>\n",
       "  <tbody>\n",
       "    <tr>\n",
       "      <th>10620</th>\n",
       "      <td>26</td>\n",
       "      <td>1</td>\n",
       "      <td>1</td>\n",
       "      <td>1</td>\n",
       "      <td>1</td>\n",
       "      <td>0</td>\n",
       "      <td>0</td>\n",
       "      <td>phl take hour offload bag especi take min get jetway get plane land</td>\n",
       "      <td>[phl, take, hour, offload, bag, especi, take, min, get, jetway, get, plane, land]</td>\n",
       "    </tr>\n",
       "    <tr>\n",
       "      <th>13609</th>\n",
       "      <td>17</td>\n",
       "      <td>1</td>\n",
       "      <td>0</td>\n",
       "      <td>1</td>\n",
       "      <td>0</td>\n",
       "      <td>0</td>\n",
       "      <td>0</td>\n",
       "      <td>past tens help no it’ even miser usual clt</td>\n",
       "      <td>[past, tens, help, no, it, ’, even, miser, usual, clt]</td>\n",
       "    </tr>\n",
       "    <tr>\n",
       "      <th>2955</th>\n",
       "      <td>11</td>\n",
       "      <td>2</td>\n",
       "      <td>0</td>\n",
       "      <td>0</td>\n",
       "      <td>0</td>\n",
       "      <td>0</td>\n",
       "      <td>0</td>\n",
       "      <td>eventu approach bag like get</td>\n",
       "      <td>[eventu, approach, bag, like, get]</td>\n",
       "    </tr>\n",
       "    <tr>\n",
       "      <th>3585</th>\n",
       "      <td>21</td>\n",
       "      <td>1</td>\n",
       "      <td>0</td>\n",
       "      <td>2</td>\n",
       "      <td>1</td>\n",
       "      <td>0</td>\n",
       "      <td>0</td>\n",
       "      <td>broken luggag mild case food poison ua lhr iah email</td>\n",
       "      <td>[broken, luggag, mild, case, food, poison, ua, lhr, iah, email]</td>\n",
       "    </tr>\n",
       "    <tr>\n",
       "      <th>2087</th>\n",
       "      <td>25</td>\n",
       "      <td>1</td>\n",
       "      <td>0</td>\n",
       "      <td>0</td>\n",
       "      <td>0</td>\n",
       "      <td>0</td>\n",
       "      <td>0</td>\n",
       "      <td>can empath think team lost right capit lowercas team day</td>\n",
       "      <td>[can, empath, think, team, lost, right, capit, lowercas, team, day]</td>\n",
       "    </tr>\n",
       "    <tr>\n",
       "      <th>...</th>\n",
       "      <td>...</td>\n",
       "      <td>...</td>\n",
       "      <td>...</td>\n",
       "      <td>...</td>\n",
       "      <td>...</td>\n",
       "      <td>...</td>\n",
       "      <td>...</td>\n",
       "      <td>...</td>\n",
       "      <td>...</td>\n",
       "    </tr>\n",
       "    <tr>\n",
       "      <th>3933</th>\n",
       "      <td>21</td>\n",
       "      <td>1</td>\n",
       "      <td>0</td>\n",
       "      <td>0</td>\n",
       "      <td>1</td>\n",
       "      <td>0</td>\n",
       "      <td>0</td>\n",
       "      <td>flight cancel flight tomorrow hold time long cancel flight leg</td>\n",
       "      <td>[flight, cancel, flight, tomorrow, hold, time, long, cancel, flight, leg]</td>\n",
       "    </tr>\n",
       "    <tr>\n",
       "      <th>3089</th>\n",
       "      <td>12</td>\n",
       "      <td>1</td>\n",
       "      <td>0</td>\n",
       "      <td>0</td>\n",
       "      <td>0</td>\n",
       "      <td>0</td>\n",
       "      <td>0</td>\n",
       "      <td>breath heavili super help thank</td>\n",
       "      <td>[breath, heavili, super, help, thank]</td>\n",
       "    </tr>\n",
       "    <tr>\n",
       "      <th>11579</th>\n",
       "      <td>29</td>\n",
       "      <td>1</td>\n",
       "      <td>0</td>\n",
       "      <td>1</td>\n",
       "      <td>0</td>\n",
       "      <td>0</td>\n",
       "      <td>0</td>\n",
       "      <td>got gate iah time given seat close flight know peopl arriv wait</td>\n",
       "      <td>[got, gate, iah, time, given, seat, close, flight, know, peopl, arriv, wait]</td>\n",
       "    </tr>\n",
       "    <tr>\n",
       "      <th>8987</th>\n",
       "      <td>8</td>\n",
       "      <td>1</td>\n",
       "      <td>0</td>\n",
       "      <td>0</td>\n",
       "      <td>3</td>\n",
       "      <td>0</td>\n",
       "      <td>0</td>\n",
       "      <td>oh get ticket</td>\n",
       "      <td>[oh, get, ticket]</td>\n",
       "    </tr>\n",
       "    <tr>\n",
       "      <th>4731</th>\n",
       "      <td>25</td>\n",
       "      <td>1</td>\n",
       "      <td>0</td>\n",
       "      <td>0</td>\n",
       "      <td>1</td>\n",
       "      <td>0</td>\n",
       "      <td>0</td>\n",
       "      <td>hour late flight made sf mayb help get earlier flight sunday</td>\n",
       "      <td>[hour, late, flight, made, sf, mayb, help, get, earlier, flight, sunday]</td>\n",
       "    </tr>\n",
       "  </tbody>\n",
       "</table>\n",
       "<p>1464 rows × 9 columns</p>\n",
       "</div>"
      ],
      "text/plain": [
       "       count_words  ...                                                                clean_text_wordlist\n",
       "10620  26           ...  [phl, take, hour, offload, bag, especi, take, min, get, jetway, get, plane, land]\n",
       "13609  17           ...  [past, tens, help, no, it, ’, even, miser, usual, clt]                           \n",
       "2955   11           ...  [eventu, approach, bag, like, get]                                               \n",
       "3585   21           ...  [broken, luggag, mild, case, food, poison, ua, lhr, iah, email]                  \n",
       "2087   25           ...  [can, empath, think, team, lost, right, capit, lowercas, team, day]              \n",
       "...    ..           ...                                                                  ...              \n",
       "3933   21           ...  [flight, cancel, flight, tomorrow, hold, time, long, cancel, flight, leg]        \n",
       "3089   12           ...  [breath, heavili, super, help, thank]                                            \n",
       "11579  29           ...  [got, gate, iah, time, given, seat, close, flight, know, peopl, arriv, wait]     \n",
       "8987   8            ...  [oh, get, ticket]                                                                \n",
       "4731   25           ...  [hour, late, flight, made, sf, mayb, help, get, earlier, flight, sunday]         \n",
       "\n",
       "[1464 rows x 9 columns]"
      ]
     },
     "execution_count": 40,
     "metadata": {
      "tags": []
     },
     "output_type": "execute_result"
    }
   ],
   "source": [
    "X_test"
   ]
  },
  {
   "cell_type": "markdown",
   "metadata": {
    "id": "q61bxXMdfXhA"
   },
   "source": [
    "In Conclusion:\n",
    "\n",
    "The vectorizers classification (CountVectorizer, TF-IDF vectorizer and Log Regression w/TF-IDF vectorizer) all done really well with favorable results. \n",
    "* The **accuracy** for all three classification category test data:\n",
    "  * .79 vs .83 (train data)\n",
    "  * .77 vs .85 (train data)\n",
    "  * .77 vs .78 (train data)\n",
    "\n",
    "Note: Accuracy is relatively high for all classification class with prediction of negative\n",
    "\n",
    "* The **recall** for all three classification category test data:\n",
    " * CountVectorizer\n",
    "   * Negative .90 vs .92 (train data)\n",
    "   * Neutral .52 vs .61 (train data)\n",
    "   * Positive .69 vs .79 (train data)\n",
    " * TF-IDF Vectorizer\n",
    "   * Negative .97 vs .97 (train data)\n",
    "   * Neutral .35 vs .60 (train data)\n",
    "   * Positive .52 vs .69 (train data)\n",
    " * TF-IDF Vectorizer plus Log Regression\n",
    "   * Negative .93 vs .93 (train data)\n",
    "   * Neutral .43 vs .50 (train data)\n",
    "   * Positive .61 vs .55 (train data)\n",
    "\n",
    "Note: Recall for neutral class is very low in both test and training data set\n",
    "\n",
    "* The **precision** for all three classification category test data:\n",
    " * CountVectorizer\n",
    "   * Negative .83 vs .87 (train data)\n",
    "   * Neutral .64 vs .73 (train data)\n",
    "   * Positive .74 vs .80 (train data)\n",
    " * TF-IDF Vectorizer\n",
    "   * Negative .76 vs .84 (train data)\n",
    "   * Neutral .71 vs .87 (train data)\n",
    "   * Positive .84 vs .88 (train data)\n",
    " * TF-IDF Vectorizer plus Log Regression\n",
    "   * Negative .81 vs .81 (train data)\n",
    "   * Neutral .57 vs .66 (train data)\n",
    "   * Positive .78 vs .74 (train data)\n",
    "   \n",
    "Note: Precision is relatively high for all classification class with prediction of negative\n"
   ]
  },
  {
   "cell_type": "code",
   "execution_count": null,
   "metadata": {
    "id": "OgXPbCKtYUU-"
   },
   "outputs": [],
   "source": []
  }
 ],
 "metadata": {
  "colab": {
   "collapsed_sections": [],
   "name": "Project Twitter US Airline Sentiment_Final.ipynb",
   "provenance": []
  },
  "kernelspec": {
   "display_name": "Python 3",
   "language": "python",
   "name": "python3"
  },
  "language_info": {
   "codemirror_mode": {
    "name": "ipython",
    "version": 3
   },
   "file_extension": ".py",
   "mimetype": "text/x-python",
   "name": "python",
   "nbconvert_exporter": "python",
   "pygments_lexer": "ipython3",
   "version": "3.8.3"
  }
 },
 "nbformat": 4,
 "nbformat_minor": 1
}
